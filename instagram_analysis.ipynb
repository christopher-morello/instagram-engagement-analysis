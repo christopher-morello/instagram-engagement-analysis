{
 "cells": [
  {
   "cell_type": "markdown",
   "id": "f22c371e",
   "metadata": {},
   "source": [
    "# Analisi performance contenuti Instagram\n",
    "\n",
    "In un panorama digitale sempre più competitivo, comprendere cosa rende un contenuto social di successo è fondamentale per qualsiasi strategia di marketing digitale. \n",
    "\n",
    "Questo notebook presenta un'analisi delle performance sui contenuti Instagram dell'intero 2024 di una pagina che si occupa di promuovere contenuti educativi.\n",
    "\n",
    ">**_Nota_**: ai fini di poter condividere il mio lavoro di analisi  ho dovuto escludere determinate variabili che avrebbero potuto ricondurre al pagina Instagram in questione.    \n",
    "Questo mi ha portato ad escludere, da questo notebook, alcune analisi più specifiche sui contenuti, per preservarne la privacy.\n",
    "\n",
    "---"
   ]
  },
  {
   "cell_type": "markdown",
   "id": "d5e9cf5c",
   "metadata": {},
   "source": [
    "**Business question**: Quali elementi contribuiscono al successo di un contenuto su Instagram si può ottimizzare la strategia di contenuti per massimizzare l’engagement?\n",
    "\n",
    "---\n"
   ]
  },
  {
   "cell_type": "markdown",
   "id": "2d1af017",
   "metadata": {},
   "source": [
    "**_Fonte dei dati_** : Meta Business Suite  \n",
    "**_Formato dei dati_** : CSV\n"
   ]
  },
  {
   "cell_type": "markdown",
   "id": "c700c336",
   "metadata": {},
   "source": [
    "## 1. Preparazione dei dati\n",
    "\n",
    "In questa sezione si svolgeranno l'import delle librerie e pacchetti e il caricamento dei dati."
   ]
  },
  {
   "cell_type": "markdown",
   "id": "37642f28",
   "metadata": {},
   "source": [
    "### 1.1 Caricamento pacchetti e librerie\n"
   ]
  },
  {
   "cell_type": "code",
   "execution_count": 1,
   "id": "395d01fb",
   "metadata": {},
   "outputs": [],
   "source": [
    "# pacchetti e librerie per condurre l'analisi\n",
    "import pandas as pd\n",
    "import numpy as np\n",
    "import matplotlib.pyplot as plt\n",
    "import seaborn as sns\n",
    "from scipy import stats\n",
    "import statsmodels.api as sm\n",
    "from statsmodels.formula.api import ols"
   ]
  },
  {
   "cell_type": "markdown",
   "id": "bebaa2ed",
   "metadata": {},
   "source": [
    "### 1.2 Importazione del dataset"
   ]
  },
  {
   "cell_type": "code",
   "execution_count": 2,
   "id": "5eb0917b",
   "metadata": {},
   "outputs": [
    {
     "name": "stdout",
     "output_type": "stream",
     "text": [
      "caricamento ok\n"
     ]
    }
   ],
   "source": [
    "# importo dataset\n",
    "instagram2024 = pd.read_csv(\"data.csv\")\n",
    "\n",
    "print(\"caricamento ok\")"
   ]
  },
  {
   "cell_type": "markdown",
   "id": "d3d5ddb5",
   "metadata": {},
   "source": [
    "### 1.3 Anteprima del dataframe"
   ]
  },
  {
   "cell_type": "code",
   "execution_count": 3,
   "id": "86587794",
   "metadata": {},
   "outputs": [
    {
     "data": {
      "application/vnd.microsoft.datawrangler.viewer.v0+json": {
       "columns": [
        {
         "name": "index",
         "rawType": "int64",
         "type": "integer"
        },
        {
         "name": "Id_contenuto",
         "rawType": "int64",
         "type": "integer"
        },
        {
         "name": "durata_s",
         "rawType": "int64",
         "type": "integer"
        },
        {
         "name": "data_pubblicazione",
         "rawType": "object",
         "type": "string"
        },
        {
         "name": "tipo_contenuto",
         "rawType": "object",
         "type": "string"
        },
        {
         "name": "like",
         "rawType": "int64",
         "type": "integer"
        },
        {
         "name": "condivisioni",
         "rawType": "int64",
         "type": "integer"
        },
        {
         "name": "commenti",
         "rawType": "int64",
         "type": "integer"
        },
        {
         "name": "salvataggi",
         "rawType": "int64",
         "type": "integer"
        },
        {
         "name": "copertura",
         "rawType": "int64",
         "type": "integer"
        },
        {
         "name": "follower",
         "rawType": "int64",
         "type": "integer"
        }
       ],
       "ref": "5b8750ac-1750-4825-a330-315124395d19",
       "rows": [
        [
         "0",
         "18037066609632734",
         "0",
         "01/02/2024 22:30",
         "Immagine di Instagram",
         "440",
         "21",
         "1",
         "22",
         "6829",
         "10"
        ],
        [
         "1",
         "18259522531211584",
         "0",
         "03/30/2024 22:30",
         "Immagine di Instagram",
         "110",
         "0",
         "0",
         "28",
         "3996",
         "0"
        ],
        [
         "2",
         "18043313155671267",
         "0",
         "03/29/2024 23:30",
         "Immagine di Instagram",
         "186",
         "2",
         "0",
         "14",
         "4523",
         "2"
        ],
        [
         "3",
         "18061817290480476",
         "0",
         "03/29/2024 09:13",
         "Carosello di Instagram",
         "204",
         "10",
         "3",
         "4",
         "3630",
         "1"
        ],
        [
         "4",
         "18425054275038157",
         "135",
         "03/29/2024 01:54",
         "Reel di Instagram",
         "795",
         "6",
         "20",
         "41",
         "11431",
         "7"
        ],
        [
         "5",
         "17998128917323574",
         "0",
         "03/27/2024 23:30",
         "Immagine di Instagram",
         "90",
         "3",
         "0",
         "4",
         "3304",
         "0"
        ],
        [
         "6",
         "18021265232111094",
         "0",
         "03/27/2024 06:48",
         "Carosello di Instagram",
         "346",
         "9",
         "8",
         "8",
         "4694",
         "3"
        ],
        [
         "7",
         "18003744629437661",
         "89",
         "03/27/2024 02:43",
         "Reel di Instagram",
         "150",
         "4",
         "0",
         "11",
         "4969",
         "1"
        ],
        [
         "8",
         "18389456431072764",
         "0",
         "03/26/2024 07:29",
         "Carosello di Instagram",
         "67",
         "2",
         "0",
         "6",
         "2304",
         "0"
        ],
        [
         "9",
         "17983479578648545",
         "89",
         "03/25/2024 09:08",
         "Reel di Instagram",
         "907",
         "36",
         "14",
         "39",
         "16227",
         "15"
        ]
       ],
       "shape": {
        "columns": 10,
        "rows": 10
       }
      },
      "text/html": [
       "<div>\n",
       "<style scoped>\n",
       "    .dataframe tbody tr th:only-of-type {\n",
       "        vertical-align: middle;\n",
       "    }\n",
       "\n",
       "    .dataframe tbody tr th {\n",
       "        vertical-align: top;\n",
       "    }\n",
       "\n",
       "    .dataframe thead th {\n",
       "        text-align: right;\n",
       "    }\n",
       "</style>\n",
       "<table border=\"1\" class=\"dataframe\">\n",
       "  <thead>\n",
       "    <tr style=\"text-align: right;\">\n",
       "      <th></th>\n",
       "      <th>Id_contenuto</th>\n",
       "      <th>durata_s</th>\n",
       "      <th>data_pubblicazione</th>\n",
       "      <th>tipo_contenuto</th>\n",
       "      <th>like</th>\n",
       "      <th>condivisioni</th>\n",
       "      <th>commenti</th>\n",
       "      <th>salvataggi</th>\n",
       "      <th>copertura</th>\n",
       "      <th>follower</th>\n",
       "    </tr>\n",
       "  </thead>\n",
       "  <tbody>\n",
       "    <tr>\n",
       "      <th>0</th>\n",
       "      <td>18037066609632734</td>\n",
       "      <td>0</td>\n",
       "      <td>01/02/2024 22:30</td>\n",
       "      <td>Immagine di Instagram</td>\n",
       "      <td>440</td>\n",
       "      <td>21</td>\n",
       "      <td>1</td>\n",
       "      <td>22</td>\n",
       "      <td>6829</td>\n",
       "      <td>10</td>\n",
       "    </tr>\n",
       "    <tr>\n",
       "      <th>1</th>\n",
       "      <td>18259522531211584</td>\n",
       "      <td>0</td>\n",
       "      <td>03/30/2024 22:30</td>\n",
       "      <td>Immagine di Instagram</td>\n",
       "      <td>110</td>\n",
       "      <td>0</td>\n",
       "      <td>0</td>\n",
       "      <td>28</td>\n",
       "      <td>3996</td>\n",
       "      <td>0</td>\n",
       "    </tr>\n",
       "    <tr>\n",
       "      <th>2</th>\n",
       "      <td>18043313155671267</td>\n",
       "      <td>0</td>\n",
       "      <td>03/29/2024 23:30</td>\n",
       "      <td>Immagine di Instagram</td>\n",
       "      <td>186</td>\n",
       "      <td>2</td>\n",
       "      <td>0</td>\n",
       "      <td>14</td>\n",
       "      <td>4523</td>\n",
       "      <td>2</td>\n",
       "    </tr>\n",
       "    <tr>\n",
       "      <th>3</th>\n",
       "      <td>18061817290480476</td>\n",
       "      <td>0</td>\n",
       "      <td>03/29/2024 09:13</td>\n",
       "      <td>Carosello di Instagram</td>\n",
       "      <td>204</td>\n",
       "      <td>10</td>\n",
       "      <td>3</td>\n",
       "      <td>4</td>\n",
       "      <td>3630</td>\n",
       "      <td>1</td>\n",
       "    </tr>\n",
       "    <tr>\n",
       "      <th>4</th>\n",
       "      <td>18425054275038157</td>\n",
       "      <td>135</td>\n",
       "      <td>03/29/2024 01:54</td>\n",
       "      <td>Reel di Instagram</td>\n",
       "      <td>795</td>\n",
       "      <td>6</td>\n",
       "      <td>20</td>\n",
       "      <td>41</td>\n",
       "      <td>11431</td>\n",
       "      <td>7</td>\n",
       "    </tr>\n",
       "    <tr>\n",
       "      <th>5</th>\n",
       "      <td>17998128917323574</td>\n",
       "      <td>0</td>\n",
       "      <td>03/27/2024 23:30</td>\n",
       "      <td>Immagine di Instagram</td>\n",
       "      <td>90</td>\n",
       "      <td>3</td>\n",
       "      <td>0</td>\n",
       "      <td>4</td>\n",
       "      <td>3304</td>\n",
       "      <td>0</td>\n",
       "    </tr>\n",
       "    <tr>\n",
       "      <th>6</th>\n",
       "      <td>18021265232111094</td>\n",
       "      <td>0</td>\n",
       "      <td>03/27/2024 06:48</td>\n",
       "      <td>Carosello di Instagram</td>\n",
       "      <td>346</td>\n",
       "      <td>9</td>\n",
       "      <td>8</td>\n",
       "      <td>8</td>\n",
       "      <td>4694</td>\n",
       "      <td>3</td>\n",
       "    </tr>\n",
       "    <tr>\n",
       "      <th>7</th>\n",
       "      <td>18003744629437661</td>\n",
       "      <td>89</td>\n",
       "      <td>03/27/2024 02:43</td>\n",
       "      <td>Reel di Instagram</td>\n",
       "      <td>150</td>\n",
       "      <td>4</td>\n",
       "      <td>0</td>\n",
       "      <td>11</td>\n",
       "      <td>4969</td>\n",
       "      <td>1</td>\n",
       "    </tr>\n",
       "    <tr>\n",
       "      <th>8</th>\n",
       "      <td>18389456431072764</td>\n",
       "      <td>0</td>\n",
       "      <td>03/26/2024 07:29</td>\n",
       "      <td>Carosello di Instagram</td>\n",
       "      <td>67</td>\n",
       "      <td>2</td>\n",
       "      <td>0</td>\n",
       "      <td>6</td>\n",
       "      <td>2304</td>\n",
       "      <td>0</td>\n",
       "    </tr>\n",
       "    <tr>\n",
       "      <th>9</th>\n",
       "      <td>17983479578648545</td>\n",
       "      <td>89</td>\n",
       "      <td>03/25/2024 09:08</td>\n",
       "      <td>Reel di Instagram</td>\n",
       "      <td>907</td>\n",
       "      <td>36</td>\n",
       "      <td>14</td>\n",
       "      <td>39</td>\n",
       "      <td>16227</td>\n",
       "      <td>15</td>\n",
       "    </tr>\n",
       "  </tbody>\n",
       "</table>\n",
       "</div>"
      ],
      "text/plain": [
       "        Id_contenuto  durata_s data_pubblicazione          tipo_contenuto  \\\n",
       "0  18037066609632734         0   01/02/2024 22:30   Immagine di Instagram   \n",
       "1  18259522531211584         0   03/30/2024 22:30   Immagine di Instagram   \n",
       "2  18043313155671267         0   03/29/2024 23:30   Immagine di Instagram   \n",
       "3  18061817290480476         0   03/29/2024 09:13  Carosello di Instagram   \n",
       "4  18425054275038157       135   03/29/2024 01:54       Reel di Instagram   \n",
       "5  17998128917323574         0   03/27/2024 23:30   Immagine di Instagram   \n",
       "6  18021265232111094         0   03/27/2024 06:48  Carosello di Instagram   \n",
       "7  18003744629437661        89   03/27/2024 02:43       Reel di Instagram   \n",
       "8  18389456431072764         0   03/26/2024 07:29  Carosello di Instagram   \n",
       "9  17983479578648545        89   03/25/2024 09:08       Reel di Instagram   \n",
       "\n",
       "   like  condivisioni  commenti  salvataggi  copertura  follower  \n",
       "0   440            21         1          22       6829        10  \n",
       "1   110             0         0          28       3996         0  \n",
       "2   186             2         0          14       4523         2  \n",
       "3   204            10         3           4       3630         1  \n",
       "4   795             6        20          41      11431         7  \n",
       "5    90             3         0           4       3304         0  \n",
       "6   346             9         8           8       4694         3  \n",
       "7   150             4         0          11       4969         1  \n",
       "8    67             2         0           6       2304         0  \n",
       "9   907            36        14          39      16227        15  "
      ]
     },
     "execution_count": 3,
     "metadata": {},
     "output_type": "execute_result"
    }
   ],
   "source": [
    "# visualizza le prime 10 righe del dataframe\n",
    "instagram2024.head(10)"
   ]
  },
  {
   "cell_type": "markdown",
   "id": "84abf6aa",
   "metadata": {},
   "source": [
    "## 2. Esplorazione e pulizia dei dati\n",
    "In questa sezione:\n",
    "- panoramica del dataset\n",
    "- controllo della qualità dei dati\n",
    "- pulizia dei dati\n",
    "- costruzione variabili utili all'analisi"
   ]
  },
  {
   "cell_type": "markdown",
   "id": "0d4c1521",
   "metadata": {},
   "source": [
    "### 2.1 Riepilogo dei dati"
   ]
  },
  {
   "cell_type": "code",
   "execution_count": 4,
   "id": "7e281146",
   "metadata": {},
   "outputs": [
    {
     "name": "stdout",
     "output_type": "stream",
     "text": [
      "<class 'pandas.core.frame.DataFrame'>\n",
      "RangeIndex: 388 entries, 0 to 387\n",
      "Data columns (total 10 columns):\n",
      " #   Column              Non-Null Count  Dtype \n",
      "---  ------              --------------  ----- \n",
      " 0   Id_contenuto        388 non-null    int64 \n",
      " 1   durata_s            388 non-null    int64 \n",
      " 2   data_pubblicazione  388 non-null    object\n",
      " 3   tipo_contenuto      388 non-null    object\n",
      " 4   like                388 non-null    int64 \n",
      " 5   condivisioni        388 non-null    int64 \n",
      " 6   commenti            388 non-null    int64 \n",
      " 7   salvataggi          388 non-null    int64 \n",
      " 8   copertura           388 non-null    int64 \n",
      " 9   follower            388 non-null    int64 \n",
      "dtypes: int64(8), object(2)\n",
      "memory usage: 30.4+ KB\n"
     ]
    }
   ],
   "source": [
    "# info() mostra informazioni generali sul DataFrame:\n",
    "# - Numero totale di righe e colonne\n",
    "# - Nome e tipo di ciascuna colonna\n",
    "# - Conteggio dei valori non nulli per colonna\n",
    "# - Tipo di dato complessivo (es. int64, float64, object)\n",
    "\n",
    "instagram2024.info()\n"
   ]
  },
  {
   "cell_type": "markdown",
   "id": "5e2be13b",
   "metadata": {},
   "source": [
    "- Il dataframe ha 388 righe e 10 colonne.\n",
    "- Non ci sono valori nulli.\n",
    "- La colonna `data_pubblicazione` è in formato `int64`, successivamente verrà convertita in formato `datetime`"
   ]
  },
  {
   "cell_type": "markdown",
   "id": "50abafe9",
   "metadata": {},
   "source": [
    "### 2.2 Pulizia dei dati"
   ]
  },
  {
   "cell_type": "code",
   "execution_count": 5,
   "id": "3d10710a",
   "metadata": {},
   "outputs": [
    {
     "data": {
      "application/vnd.microsoft.datawrangler.viewer.v0+json": {
       "columns": [
        {
         "name": "index",
         "rawType": "object",
         "type": "string"
        },
        {
         "name": "Id_contenuto",
         "rawType": "float64",
         "type": "float"
        },
        {
         "name": "durata_s",
         "rawType": "float64",
         "type": "float"
        },
        {
         "name": "like",
         "rawType": "float64",
         "type": "float"
        },
        {
         "name": "condivisioni",
         "rawType": "float64",
         "type": "float"
        },
        {
         "name": "commenti",
         "rawType": "float64",
         "type": "float"
        },
        {
         "name": "salvataggi",
         "rawType": "float64",
         "type": "float"
        },
        {
         "name": "copertura",
         "rawType": "float64",
         "type": "float"
        },
        {
         "name": "follower",
         "rawType": "float64",
         "type": "float"
        }
       ],
       "ref": "0b33ed58-4091-444f-b0ce-0a567e6782ce",
       "rows": [
        [
         "count",
         "388.0",
         "388.0",
         "388.0",
         "388.0",
         "388.0",
         "388.0",
         "388.0",
         "388.0"
        ],
        [
         "mean",
         "1.8047067146576324e+16",
         "57.61082474226804",
         "529.2989690721649",
         "23.463917525773194",
         "12.737113402061855",
         "43.31701030927835",
         "13826.30412371134",
         "15.121134020618557"
        ],
        [
         "std",
         "139625068468660.78",
         "169.2793834167765",
         "668.0153205773548",
         "35.592239044777315",
         "36.53482942556411",
         "86.65381550116217",
         "31615.355588664646",
         "52.876612911814995"
        ],
        [
         "min",
         "1.7842012098203444e+16",
         "0.0",
         "19.0",
         "0.0",
         "0.0",
         "0.0",
         "1782.0",
         "0.0"
        ],
        [
         "25%",
         "1.7972890243210298e+16",
         "0.0",
         "147.75",
         "4.0",
         "1.0",
         "6.0",
         "4442.5",
         "1.0"
        ],
        [
         "50%",
         "1.802699830857415e+16",
         "0.0",
         "327.0",
         "9.5",
         "3.0",
         "19.0",
         "7180.5",
         "3.0"
        ],
        [
         "75%",
         "1.8066521920613496e+16",
         "80.0",
         "673.0",
         "29.0",
         "11.0",
         "47.0",
         "13464.5",
         "9.0"
        ],
        [
         "max",
         "1.8468878356006656e+16",
         "2080.0",
         "5159.0",
         "242.0",
         "418.0",
         "1062.0",
         "427316.0",
         "696.0"
        ]
       ],
       "shape": {
        "columns": 8,
        "rows": 8
       }
      },
      "text/html": [
       "<div>\n",
       "<style scoped>\n",
       "    .dataframe tbody tr th:only-of-type {\n",
       "        vertical-align: middle;\n",
       "    }\n",
       "\n",
       "    .dataframe tbody tr th {\n",
       "        vertical-align: top;\n",
       "    }\n",
       "\n",
       "    .dataframe thead th {\n",
       "        text-align: right;\n",
       "    }\n",
       "</style>\n",
       "<table border=\"1\" class=\"dataframe\">\n",
       "  <thead>\n",
       "    <tr style=\"text-align: right;\">\n",
       "      <th></th>\n",
       "      <th>Id_contenuto</th>\n",
       "      <th>durata_s</th>\n",
       "      <th>like</th>\n",
       "      <th>condivisioni</th>\n",
       "      <th>commenti</th>\n",
       "      <th>salvataggi</th>\n",
       "      <th>copertura</th>\n",
       "      <th>follower</th>\n",
       "    </tr>\n",
       "  </thead>\n",
       "  <tbody>\n",
       "    <tr>\n",
       "      <th>count</th>\n",
       "      <td>3.880000e+02</td>\n",
       "      <td>388.000000</td>\n",
       "      <td>388.000000</td>\n",
       "      <td>388.000000</td>\n",
       "      <td>388.000000</td>\n",
       "      <td>388.000000</td>\n",
       "      <td>388.000000</td>\n",
       "      <td>388.000000</td>\n",
       "    </tr>\n",
       "    <tr>\n",
       "      <th>mean</th>\n",
       "      <td>1.804707e+16</td>\n",
       "      <td>57.610825</td>\n",
       "      <td>529.298969</td>\n",
       "      <td>23.463918</td>\n",
       "      <td>12.737113</td>\n",
       "      <td>43.317010</td>\n",
       "      <td>13826.304124</td>\n",
       "      <td>15.121134</td>\n",
       "    </tr>\n",
       "    <tr>\n",
       "      <th>std</th>\n",
       "      <td>1.396251e+14</td>\n",
       "      <td>169.279383</td>\n",
       "      <td>668.015321</td>\n",
       "      <td>35.592239</td>\n",
       "      <td>36.534829</td>\n",
       "      <td>86.653816</td>\n",
       "      <td>31615.355589</td>\n",
       "      <td>52.876613</td>\n",
       "    </tr>\n",
       "    <tr>\n",
       "      <th>min</th>\n",
       "      <td>1.784201e+16</td>\n",
       "      <td>0.000000</td>\n",
       "      <td>19.000000</td>\n",
       "      <td>0.000000</td>\n",
       "      <td>0.000000</td>\n",
       "      <td>0.000000</td>\n",
       "      <td>1782.000000</td>\n",
       "      <td>0.000000</td>\n",
       "    </tr>\n",
       "    <tr>\n",
       "      <th>25%</th>\n",
       "      <td>1.797289e+16</td>\n",
       "      <td>0.000000</td>\n",
       "      <td>147.750000</td>\n",
       "      <td>4.000000</td>\n",
       "      <td>1.000000</td>\n",
       "      <td>6.000000</td>\n",
       "      <td>4442.500000</td>\n",
       "      <td>1.000000</td>\n",
       "    </tr>\n",
       "    <tr>\n",
       "      <th>50%</th>\n",
       "      <td>1.802700e+16</td>\n",
       "      <td>0.000000</td>\n",
       "      <td>327.000000</td>\n",
       "      <td>9.500000</td>\n",
       "      <td>3.000000</td>\n",
       "      <td>19.000000</td>\n",
       "      <td>7180.500000</td>\n",
       "      <td>3.000000</td>\n",
       "    </tr>\n",
       "    <tr>\n",
       "      <th>75%</th>\n",
       "      <td>1.806652e+16</td>\n",
       "      <td>80.000000</td>\n",
       "      <td>673.000000</td>\n",
       "      <td>29.000000</td>\n",
       "      <td>11.000000</td>\n",
       "      <td>47.000000</td>\n",
       "      <td>13464.500000</td>\n",
       "      <td>9.000000</td>\n",
       "    </tr>\n",
       "    <tr>\n",
       "      <th>max</th>\n",
       "      <td>1.846888e+16</td>\n",
       "      <td>2080.000000</td>\n",
       "      <td>5159.000000</td>\n",
       "      <td>242.000000</td>\n",
       "      <td>418.000000</td>\n",
       "      <td>1062.000000</td>\n",
       "      <td>427316.000000</td>\n",
       "      <td>696.000000</td>\n",
       "    </tr>\n",
       "  </tbody>\n",
       "</table>\n",
       "</div>"
      ],
      "text/plain": [
       "       Id_contenuto     durata_s         like  condivisioni    commenti  \\\n",
       "count  3.880000e+02   388.000000   388.000000    388.000000  388.000000   \n",
       "mean   1.804707e+16    57.610825   529.298969     23.463918   12.737113   \n",
       "std    1.396251e+14   169.279383   668.015321     35.592239   36.534829   \n",
       "min    1.784201e+16     0.000000    19.000000      0.000000    0.000000   \n",
       "25%    1.797289e+16     0.000000   147.750000      4.000000    1.000000   \n",
       "50%    1.802700e+16     0.000000   327.000000      9.500000    3.000000   \n",
       "75%    1.806652e+16    80.000000   673.000000     29.000000   11.000000   \n",
       "max    1.846888e+16  2080.000000  5159.000000    242.000000  418.000000   \n",
       "\n",
       "        salvataggi      copertura    follower  \n",
       "count   388.000000     388.000000  388.000000  \n",
       "mean     43.317010   13826.304124   15.121134  \n",
       "std      86.653816   31615.355589   52.876613  \n",
       "min       0.000000    1782.000000    0.000000  \n",
       "25%       6.000000    4442.500000    1.000000  \n",
       "50%      19.000000    7180.500000    3.000000  \n",
       "75%      47.000000   13464.500000    9.000000  \n",
       "max    1062.000000  427316.000000  696.000000  "
      ]
     },
     "execution_count": 5,
     "metadata": {},
     "output_type": "execute_result"
    }
   ],
   "source": [
    "# describe() restituisce una riepilogo utile del dataframe. \n",
    "# mostra statistiche descrittive utili a identificare valori anomali\n",
    "instagram2024.describe()"
   ]
  },
  {
   "cell_type": "markdown",
   "id": "fd47da2d",
   "metadata": {},
   "source": [
    "Un check del riepilogo mostra che non sono stati riscontrati outlier significativi né valori negativi degni di nota."
   ]
  },
  {
   "cell_type": "markdown",
   "id": "d5473132",
   "metadata": {},
   "source": [
    "**Controllo duplicati**. \n",
    "\n",
    "Verificherò la presenza di duplicati nella colonna `Id_contentuto`, unica variabile che dovrebbe contenere esclusivamente valori univoci."
   ]
  },
  {
   "cell_type": "code",
   "execution_count": 6,
   "id": "40aede4b",
   "metadata": {},
   "outputs": [
    {
     "data": {
      "text/plain": [
       "np.int64(0)"
      ]
     },
     "execution_count": 6,
     "metadata": {},
     "output_type": "execute_result"
    }
   ],
   "source": [
    "# controllo duplicati nella colonna \"Id_contenuto\"\n",
    "instagram2024[\"Id_contenuto\"].duplicated().sum()"
   ]
  },
  {
   "cell_type": "markdown",
   "id": "f61bd33e",
   "metadata": {},
   "source": [
    "Non sono presenti valori duplicati."
   ]
  },
  {
   "cell_type": "markdown",
   "id": "638dec78",
   "metadata": {},
   "source": [
    "**Pulizia**\n",
    "\n",
    "Per garantire un'analisi dei dati efficiente e coerente, preferisco standardizzare e semplificare i nomi delle categorie. \n",
    "\n",
    "Ridurre stringhe lunghe come \"Immagine di Instagram\" in nomi più concisi e uniformi come \"immagine\" rende il codice più leggibile, riduce gli errori e facilita le operazioni di raggruppamento e filtraggio dei dati."
   ]
  },
  {
   "cell_type": "markdown",
   "id": "71e02a28",
   "metadata": {},
   "source": [
    "Procedo a:\n",
    "- verificare i nomi delle variabili categoriche\n",
    "- rinominare le voci"
   ]
  },
  {
   "cell_type": "code",
   "execution_count": 7,
   "id": "791b87f1",
   "metadata": {},
   "outputs": [
    {
     "data": {
      "text/plain": [
       "array(['Immagine di Instagram', 'Carosello di Instagram',\n",
       "       'Reel di Instagram'], dtype=object)"
      ]
     },
     "execution_count": 7,
     "metadata": {},
     "output_type": "execute_result"
    }
   ],
   "source": [
    "#verifico le categorie univoche in \"tipo_contenuto\"\n",
    "instagram2024[\"tipo_contenuto\"].unique()"
   ]
  },
  {
   "cell_type": "markdown",
   "id": "aa83c61c",
   "metadata": {},
   "source": [
    "Ora procederò a rinominare le voci. Per farlo costruirò un dizionario in cui inserirò i nuovi valori e le voci da sostituire."
   ]
  },
  {
   "cell_type": "code",
   "execution_count": 8,
   "id": "b755792b",
   "metadata": {},
   "outputs": [
    {
     "data": {
      "text/plain": [
       "array(['immagine', 'carosello', 'reel'], dtype=object)"
      ]
     },
     "execution_count": 8,
     "metadata": {},
     "output_type": "execute_result"
    }
   ],
   "source": [
    "# creazione dizionario per le sostituzioni\n",
    "mappa_sostituzioni = {\n",
    "    \"Immagine di Instagram\": \"immagine\",\n",
    "    \"Carosello di Instagram\": \"carosello\",\n",
    "    \"Reel di Instagram\": \"reel\"\n",
    "}\n",
    "\n",
    "#applico le sostituzione con il metodo replace\n",
    "instagram2024[\"tipo_contenuto\"] = instagram2024[\"tipo_contenuto\"].replace(mappa_sostituzioni)\n",
    "\n",
    "#verifica\n",
    "instagram2024[\"tipo_contenuto\"].unique()"
   ]
  },
  {
   "cell_type": "markdown",
   "id": "7edcc5e6",
   "metadata": {},
   "source": [
    "## 3. Elaborazione"
   ]
  },
  {
   "cell_type": "markdown",
   "id": "8ece736b",
   "metadata": {},
   "source": [
    "In questa sezione verranno:\n",
    "\n",
    "- conversione `data_pubblicazione` in formato datetime\n",
    "- create nuove variabili da quelle esistenti (time, weekday, fascia_oraria, engagement_rate)"
   ]
  },
  {
   "cell_type": "markdown",
   "id": "b068419b",
   "metadata": {},
   "source": [
    "### 3.1 Elaborazione variabili temporali"
   ]
  },
  {
   "cell_type": "markdown",
   "id": "ac11038d",
   "metadata": {},
   "source": [
    "Procedo a:\n",
    "- convertire la colonna `data_pubblicazione_ in formato datetime (%m%d%Y %H%M)\n",
    "- correggere il fuso orario\n",
    "- estrarre giorno della settimana e orario e creare due nuove variabili\n",
    "- creazione variabile categoriale sulla fascia di orario"
   ]
  },
  {
   "cell_type": "code",
   "execution_count": 9,
   "id": "33e8bf54",
   "metadata": {},
   "outputs": [
    {
     "data": {
      "text/plain": [
       "dtype('<M8[ns]')"
      ]
     },
     "execution_count": 9,
     "metadata": {},
     "output_type": "execute_result"
    }
   ],
   "source": [
    "#converto la colonna \"data_pubblicazione\" in formato datetime %m%d%y\n",
    "instagram2024[\"data_pubblicazione\"] = pd.to_datetime(instagram2024[\"data_pubblicazione\"], format = \"%m/%d/%Y %H:%M\")\n",
    "\n",
    "#verifico conversione\n",
    "instagram2024[\"data_pubblicazione\"].dtype"
   ]
  },
  {
   "cell_type": "markdown",
   "id": "95893a9f",
   "metadata": {},
   "source": [
    "**Conversione fuso orario**"
   ]
  },
  {
   "cell_type": "markdown",
   "id": "00042bd1",
   "metadata": {},
   "source": [
    "I dati scaricati da Meta Business Suite sono registrati con il fuso orario della sede di Meta in California. Per garantire che l'analisi sia coerente con il contesto temporale locale, è necessario convertire tutti i timestamp nel fuso orario italiano."
   ]
  },
  {
   "cell_type": "code",
   "execution_count": 10,
   "id": "d07aab92",
   "metadata": {},
   "outputs": [
    {
     "data": {
      "application/vnd.microsoft.datawrangler.viewer.v0+json": {
       "columns": [
        {
         "name": "index",
         "rawType": "int64",
         "type": "integer"
        },
        {
         "name": "Id_contenuto",
         "rawType": "int64",
         "type": "integer"
        },
        {
         "name": "durata_s",
         "rawType": "int64",
         "type": "integer"
        },
        {
         "name": "data_pubblicazione",
         "rawType": "datetime64[ns]",
         "type": "datetime"
        },
        {
         "name": "tipo_contenuto",
         "rawType": "object",
         "type": "string"
        },
        {
         "name": "like",
         "rawType": "int64",
         "type": "integer"
        },
        {
         "name": "condivisioni",
         "rawType": "int64",
         "type": "integer"
        },
        {
         "name": "commenti",
         "rawType": "int64",
         "type": "integer"
        },
        {
         "name": "salvataggi",
         "rawType": "int64",
         "type": "integer"
        },
        {
         "name": "copertura",
         "rawType": "int64",
         "type": "integer"
        },
        {
         "name": "follower",
         "rawType": "int64",
         "type": "integer"
        }
       ],
       "ref": "3d6dc322-64f1-4ddc-ad1b-93e751d63fa1",
       "rows": [
        [
         "0",
         "18037066609632734",
         "0",
         "2024-01-03 07:30:00",
         "immagine",
         "440",
         "21",
         "1",
         "22",
         "6829",
         "10"
        ],
        [
         "102",
         "18028728205829229",
         "0",
         "2024-01-04 07:30:00",
         "immagine",
         "206",
         "11",
         "7",
         "7",
         "4227",
         "0"
        ],
        [
         "101",
         "18008919614490760",
         "60",
         "2024-01-05 08:01:00",
         "reel",
         "92",
         "1",
         "0",
         "2",
         "4291",
         "3"
        ],
        [
         "100",
         "18245506138242189",
         "21",
         "2024-01-08 12:34:00",
         "reel",
         "836",
         "2",
         "6",
         "49",
         "30342",
         "291"
        ],
        [
         "99",
         "18016083656078605",
         "0",
         "2024-01-09 07:30:00",
         "carosello",
         "62",
         "0",
         "0",
         "3",
         "2196",
         "0"
        ]
       ],
       "shape": {
        "columns": 10,
        "rows": 5
       }
      },
      "text/html": [
       "<div>\n",
       "<style scoped>\n",
       "    .dataframe tbody tr th:only-of-type {\n",
       "        vertical-align: middle;\n",
       "    }\n",
       "\n",
       "    .dataframe tbody tr th {\n",
       "        vertical-align: top;\n",
       "    }\n",
       "\n",
       "    .dataframe thead th {\n",
       "        text-align: right;\n",
       "    }\n",
       "</style>\n",
       "<table border=\"1\" class=\"dataframe\">\n",
       "  <thead>\n",
       "    <tr style=\"text-align: right;\">\n",
       "      <th></th>\n",
       "      <th>Id_contenuto</th>\n",
       "      <th>durata_s</th>\n",
       "      <th>data_pubblicazione</th>\n",
       "      <th>tipo_contenuto</th>\n",
       "      <th>like</th>\n",
       "      <th>condivisioni</th>\n",
       "      <th>commenti</th>\n",
       "      <th>salvataggi</th>\n",
       "      <th>copertura</th>\n",
       "      <th>follower</th>\n",
       "    </tr>\n",
       "  </thead>\n",
       "  <tbody>\n",
       "    <tr>\n",
       "      <th>0</th>\n",
       "      <td>18037066609632734</td>\n",
       "      <td>0</td>\n",
       "      <td>2024-01-03 07:30:00</td>\n",
       "      <td>immagine</td>\n",
       "      <td>440</td>\n",
       "      <td>21</td>\n",
       "      <td>1</td>\n",
       "      <td>22</td>\n",
       "      <td>6829</td>\n",
       "      <td>10</td>\n",
       "    </tr>\n",
       "    <tr>\n",
       "      <th>102</th>\n",
       "      <td>18028728205829229</td>\n",
       "      <td>0</td>\n",
       "      <td>2024-01-04 07:30:00</td>\n",
       "      <td>immagine</td>\n",
       "      <td>206</td>\n",
       "      <td>11</td>\n",
       "      <td>7</td>\n",
       "      <td>7</td>\n",
       "      <td>4227</td>\n",
       "      <td>0</td>\n",
       "    </tr>\n",
       "    <tr>\n",
       "      <th>101</th>\n",
       "      <td>18008919614490760</td>\n",
       "      <td>60</td>\n",
       "      <td>2024-01-05 08:01:00</td>\n",
       "      <td>reel</td>\n",
       "      <td>92</td>\n",
       "      <td>1</td>\n",
       "      <td>0</td>\n",
       "      <td>2</td>\n",
       "      <td>4291</td>\n",
       "      <td>3</td>\n",
       "    </tr>\n",
       "    <tr>\n",
       "      <th>100</th>\n",
       "      <td>18245506138242189</td>\n",
       "      <td>21</td>\n",
       "      <td>2024-01-08 12:34:00</td>\n",
       "      <td>reel</td>\n",
       "      <td>836</td>\n",
       "      <td>2</td>\n",
       "      <td>6</td>\n",
       "      <td>49</td>\n",
       "      <td>30342</td>\n",
       "      <td>291</td>\n",
       "    </tr>\n",
       "    <tr>\n",
       "      <th>99</th>\n",
       "      <td>18016083656078605</td>\n",
       "      <td>0</td>\n",
       "      <td>2024-01-09 07:30:00</td>\n",
       "      <td>carosello</td>\n",
       "      <td>62</td>\n",
       "      <td>0</td>\n",
       "      <td>0</td>\n",
       "      <td>3</td>\n",
       "      <td>2196</td>\n",
       "      <td>0</td>\n",
       "    </tr>\n",
       "  </tbody>\n",
       "</table>\n",
       "</div>"
      ],
      "text/plain": [
       "          Id_contenuto  durata_s  data_pubblicazione tipo_contenuto  like  \\\n",
       "0    18037066609632734         0 2024-01-03 07:30:00       immagine   440   \n",
       "102  18028728205829229         0 2024-01-04 07:30:00       immagine   206   \n",
       "101  18008919614490760        60 2024-01-05 08:01:00           reel    92   \n",
       "100  18245506138242189        21 2024-01-08 12:34:00           reel   836   \n",
       "99   18016083656078605         0 2024-01-09 07:30:00      carosello    62   \n",
       "\n",
       "     condivisioni  commenti  salvataggi  copertura  follower  \n",
       "0              21         1          22       6829        10  \n",
       "102            11         7           7       4227         0  \n",
       "101             1         0           2       4291         3  \n",
       "100             2         6          49      30342       291  \n",
       "99              0         0           3       2196         0  "
      ]
     },
     "execution_count": 10,
     "metadata": {},
     "output_type": "execute_result"
    }
   ],
   "source": [
    "# Correggo il fuso orario della colonna \"data_pubblicazione\" aggiungendo 9 ore\n",
    "instagram2024[\"data_pubblicazione\"] = instagram2024[\"data_pubblicazione\"] + pd.to_timedelta(\"9 hours\")\n",
    "\n",
    "# ordino il dataframe per data\n",
    "instagram2024.sort_values(\"data_pubblicazione\", inplace=True)\n",
    "\n",
    "# prime 5 voci\n",
    "instagram2024.head()\n",
    "\n"
   ]
  },
  {
   "cell_type": "markdown",
   "id": "d87b8b8e",
   "metadata": {},
   "source": [
    "**Estrazione giorni della settimana e orari**"
   ]
  },
  {
   "cell_type": "markdown",
   "id": "777964d9",
   "metadata": {},
   "source": [
    "Ora, attraverso il metodo `datetime` estraggo il giorno della settimana e l'orario e ne creo due colonne separate."
   ]
  },
  {
   "cell_type": "code",
   "execution_count": 11,
   "id": "144e44c8",
   "metadata": {},
   "outputs": [
    {
     "data": {
      "application/vnd.microsoft.datawrangler.viewer.v0+json": {
       "columns": [
        {
         "name": "index",
         "rawType": "int64",
         "type": "integer"
        },
        {
         "name": "Id_contenuto",
         "rawType": "int64",
         "type": "integer"
        },
        {
         "name": "durata_s",
         "rawType": "int64",
         "type": "integer"
        },
        {
         "name": "data_pubblicazione",
         "rawType": "datetime64[ns]",
         "type": "datetime"
        },
        {
         "name": "tipo_contenuto",
         "rawType": "object",
         "type": "string"
        },
        {
         "name": "like",
         "rawType": "int64",
         "type": "integer"
        },
        {
         "name": "condivisioni",
         "rawType": "int64",
         "type": "integer"
        },
        {
         "name": "commenti",
         "rawType": "int64",
         "type": "integer"
        },
        {
         "name": "salvataggi",
         "rawType": "int64",
         "type": "integer"
        },
        {
         "name": "copertura",
         "rawType": "int64",
         "type": "integer"
        },
        {
         "name": "follower",
         "rawType": "int64",
         "type": "integer"
        },
        {
         "name": "weekday",
         "rawType": "object",
         "type": "string"
        },
        {
         "name": "time",
         "rawType": "int32",
         "type": "integer"
        }
       ],
       "ref": "a2ea8619-40bd-4f9c-8ce0-46be9e4c6627",
       "rows": [
        [
         "0",
         "18037066609632734",
         "0",
         "2024-01-03 07:30:00",
         "immagine",
         "440",
         "21",
         "1",
         "22",
         "6829",
         "10",
         "Wed",
         "7"
        ],
        [
         "102",
         "18028728205829229",
         "0",
         "2024-01-04 07:30:00",
         "immagine",
         "206",
         "11",
         "7",
         "7",
         "4227",
         "0",
         "Thu",
         "7"
        ],
        [
         "101",
         "18008919614490760",
         "60",
         "2024-01-05 08:01:00",
         "reel",
         "92",
         "1",
         "0",
         "2",
         "4291",
         "3",
         "Fri",
         "8"
        ],
        [
         "100",
         "18245506138242189",
         "21",
         "2024-01-08 12:34:00",
         "reel",
         "836",
         "2",
         "6",
         "49",
         "30342",
         "291",
         "Mon",
         "12"
        ],
        [
         "99",
         "18016083656078605",
         "0",
         "2024-01-09 07:30:00",
         "carosello",
         "62",
         "0",
         "0",
         "3",
         "2196",
         "0",
         "Tue",
         "7"
        ]
       ],
       "shape": {
        "columns": 12,
        "rows": 5
       }
      },
      "text/html": [
       "<div>\n",
       "<style scoped>\n",
       "    .dataframe tbody tr th:only-of-type {\n",
       "        vertical-align: middle;\n",
       "    }\n",
       "\n",
       "    .dataframe tbody tr th {\n",
       "        vertical-align: top;\n",
       "    }\n",
       "\n",
       "    .dataframe thead th {\n",
       "        text-align: right;\n",
       "    }\n",
       "</style>\n",
       "<table border=\"1\" class=\"dataframe\">\n",
       "  <thead>\n",
       "    <tr style=\"text-align: right;\">\n",
       "      <th></th>\n",
       "      <th>Id_contenuto</th>\n",
       "      <th>durata_s</th>\n",
       "      <th>data_pubblicazione</th>\n",
       "      <th>tipo_contenuto</th>\n",
       "      <th>like</th>\n",
       "      <th>condivisioni</th>\n",
       "      <th>commenti</th>\n",
       "      <th>salvataggi</th>\n",
       "      <th>copertura</th>\n",
       "      <th>follower</th>\n",
       "      <th>weekday</th>\n",
       "      <th>time</th>\n",
       "    </tr>\n",
       "  </thead>\n",
       "  <tbody>\n",
       "    <tr>\n",
       "      <th>0</th>\n",
       "      <td>18037066609632734</td>\n",
       "      <td>0</td>\n",
       "      <td>2024-01-03 07:30:00</td>\n",
       "      <td>immagine</td>\n",
       "      <td>440</td>\n",
       "      <td>21</td>\n",
       "      <td>1</td>\n",
       "      <td>22</td>\n",
       "      <td>6829</td>\n",
       "      <td>10</td>\n",
       "      <td>Wed</td>\n",
       "      <td>7</td>\n",
       "    </tr>\n",
       "    <tr>\n",
       "      <th>102</th>\n",
       "      <td>18028728205829229</td>\n",
       "      <td>0</td>\n",
       "      <td>2024-01-04 07:30:00</td>\n",
       "      <td>immagine</td>\n",
       "      <td>206</td>\n",
       "      <td>11</td>\n",
       "      <td>7</td>\n",
       "      <td>7</td>\n",
       "      <td>4227</td>\n",
       "      <td>0</td>\n",
       "      <td>Thu</td>\n",
       "      <td>7</td>\n",
       "    </tr>\n",
       "    <tr>\n",
       "      <th>101</th>\n",
       "      <td>18008919614490760</td>\n",
       "      <td>60</td>\n",
       "      <td>2024-01-05 08:01:00</td>\n",
       "      <td>reel</td>\n",
       "      <td>92</td>\n",
       "      <td>1</td>\n",
       "      <td>0</td>\n",
       "      <td>2</td>\n",
       "      <td>4291</td>\n",
       "      <td>3</td>\n",
       "      <td>Fri</td>\n",
       "      <td>8</td>\n",
       "    </tr>\n",
       "    <tr>\n",
       "      <th>100</th>\n",
       "      <td>18245506138242189</td>\n",
       "      <td>21</td>\n",
       "      <td>2024-01-08 12:34:00</td>\n",
       "      <td>reel</td>\n",
       "      <td>836</td>\n",
       "      <td>2</td>\n",
       "      <td>6</td>\n",
       "      <td>49</td>\n",
       "      <td>30342</td>\n",
       "      <td>291</td>\n",
       "      <td>Mon</td>\n",
       "      <td>12</td>\n",
       "    </tr>\n",
       "    <tr>\n",
       "      <th>99</th>\n",
       "      <td>18016083656078605</td>\n",
       "      <td>0</td>\n",
       "      <td>2024-01-09 07:30:00</td>\n",
       "      <td>carosello</td>\n",
       "      <td>62</td>\n",
       "      <td>0</td>\n",
       "      <td>0</td>\n",
       "      <td>3</td>\n",
       "      <td>2196</td>\n",
       "      <td>0</td>\n",
       "      <td>Tue</td>\n",
       "      <td>7</td>\n",
       "    </tr>\n",
       "  </tbody>\n",
       "</table>\n",
       "</div>"
      ],
      "text/plain": [
       "          Id_contenuto  durata_s  data_pubblicazione tipo_contenuto  like  \\\n",
       "0    18037066609632734         0 2024-01-03 07:30:00       immagine   440   \n",
       "102  18028728205829229         0 2024-01-04 07:30:00       immagine   206   \n",
       "101  18008919614490760        60 2024-01-05 08:01:00           reel    92   \n",
       "100  18245506138242189        21 2024-01-08 12:34:00           reel   836   \n",
       "99   18016083656078605         0 2024-01-09 07:30:00      carosello    62   \n",
       "\n",
       "     condivisioni  commenti  salvataggi  copertura  follower weekday  time  \n",
       "0              21         1          22       6829        10     Wed     7  \n",
       "102            11         7           7       4227         0     Thu     7  \n",
       "101             1         0           2       4291         3     Fri     8  \n",
       "100             2         6          49      30342       291     Mon    12  \n",
       "99              0         0           3       2196         0     Tue     7  "
      ]
     },
     "execution_count": 11,
     "metadata": {},
     "output_type": "execute_result"
    }
   ],
   "source": [
    "# Creazione di colonne per giorno della settimana e ora\n",
    "instagram2024[\"weekday\"] = instagram2024[\"data_pubblicazione\"].dt.strftime(\"%a\")\n",
    "instagram2024[\"time\"] = instagram2024[\"data_pubblicazione\"].dt.hour\n",
    "\n",
    "#verifica\n",
    "instagram2024.head()"
   ]
  },
  {
   "cell_type": "markdown",
   "id": "71b5bed7",
   "metadata": {},
   "source": [
    "**Creazione variabile \"fascia_giornata\"**"
   ]
  },
  {
   "cell_type": "markdown",
   "id": "084430ae",
   "metadata": {},
   "source": [
    "Verifico quali orari sono presenti per costruire delle categorie coerenti"
   ]
  },
  {
   "cell_type": "code",
   "execution_count": 12,
   "id": "f8652240",
   "metadata": {},
   "outputs": [
    {
     "data": {
      "text/plain": [
       "[np.int32(7),\n",
       " np.int32(8),\n",
       " np.int32(9),\n",
       " np.int32(10),\n",
       " np.int32(11),\n",
       " np.int32(12),\n",
       " np.int32(13),\n",
       " np.int32(14),\n",
       " np.int32(15),\n",
       " np.int32(16),\n",
       " np.int32(17),\n",
       " np.int32(18),\n",
       " np.int32(19),\n",
       " np.int32(20),\n",
       " np.int32(21),\n",
       " np.int32(22)]"
      ]
     },
     "execution_count": 12,
     "metadata": {},
     "output_type": "execute_result"
    }
   ],
   "source": [
    "sorted(instagram2024[\"time\"].unique())"
   ]
  },
  {
   "cell_type": "markdown",
   "id": "88e1164b",
   "metadata": {},
   "source": [
    "Il range di orario di pubblicazione va dalle 7 alle 22.  \n",
    "Su questa base creo tre fasce orarie: mattina, pomeriggio e sera."
   ]
  },
  {
   "cell_type": "code",
   "execution_count": 13,
   "id": "7ae5883b",
   "metadata": {},
   "outputs": [
    {
     "data": {
      "application/vnd.microsoft.datawrangler.viewer.v0+json": {
       "columns": [
        {
         "name": "index",
         "rawType": "int64",
         "type": "integer"
        },
        {
         "name": "Id_contenuto",
         "rawType": "int64",
         "type": "integer"
        },
        {
         "name": "durata_s",
         "rawType": "int64",
         "type": "integer"
        },
        {
         "name": "data_pubblicazione",
         "rawType": "datetime64[ns]",
         "type": "datetime"
        },
        {
         "name": "tipo_contenuto",
         "rawType": "object",
         "type": "string"
        },
        {
         "name": "like",
         "rawType": "int64",
         "type": "integer"
        },
        {
         "name": "condivisioni",
         "rawType": "int64",
         "type": "integer"
        },
        {
         "name": "commenti",
         "rawType": "int64",
         "type": "integer"
        },
        {
         "name": "salvataggi",
         "rawType": "int64",
         "type": "integer"
        },
        {
         "name": "copertura",
         "rawType": "int64",
         "type": "integer"
        },
        {
         "name": "follower",
         "rawType": "int64",
         "type": "integer"
        },
        {
         "name": "weekday",
         "rawType": "object",
         "type": "string"
        },
        {
         "name": "time",
         "rawType": "int32",
         "type": "integer"
        },
        {
         "name": "fascia_oraria",
         "rawType": "category",
         "type": "unknown"
        }
       ],
       "ref": "c2f334df-57cf-4c94-ac8a-b760efcbf45a",
       "rows": [
        [
         "0",
         "18037066609632734",
         "0",
         "2024-01-03 07:30:00",
         "immagine",
         "440",
         "21",
         "1",
         "22",
         "6829",
         "10",
         "Wed",
         "7",
         "mattina (7-12)"
        ],
        [
         "102",
         "18028728205829229",
         "0",
         "2024-01-04 07:30:00",
         "immagine",
         "206",
         "11",
         "7",
         "7",
         "4227",
         "0",
         "Thu",
         "7",
         "mattina (7-12)"
        ],
        [
         "101",
         "18008919614490760",
         "60",
         "2024-01-05 08:01:00",
         "reel",
         "92",
         "1",
         "0",
         "2",
         "4291",
         "3",
         "Fri",
         "8",
         "mattina (7-12)"
        ],
        [
         "100",
         "18245506138242189",
         "21",
         "2024-01-08 12:34:00",
         "reel",
         "836",
         "2",
         "6",
         "49",
         "30342",
         "291",
         "Mon",
         "12",
         "pomeriggio (12-17)"
        ],
        [
         "99",
         "18016083656078605",
         "0",
         "2024-01-09 07:30:00",
         "carosello",
         "62",
         "0",
         "0",
         "3",
         "2196",
         "0",
         "Tue",
         "7",
         "mattina (7-12)"
        ]
       ],
       "shape": {
        "columns": 13,
        "rows": 5
       }
      },
      "text/html": [
       "<div>\n",
       "<style scoped>\n",
       "    .dataframe tbody tr th:only-of-type {\n",
       "        vertical-align: middle;\n",
       "    }\n",
       "\n",
       "    .dataframe tbody tr th {\n",
       "        vertical-align: top;\n",
       "    }\n",
       "\n",
       "    .dataframe thead th {\n",
       "        text-align: right;\n",
       "    }\n",
       "</style>\n",
       "<table border=\"1\" class=\"dataframe\">\n",
       "  <thead>\n",
       "    <tr style=\"text-align: right;\">\n",
       "      <th></th>\n",
       "      <th>Id_contenuto</th>\n",
       "      <th>durata_s</th>\n",
       "      <th>data_pubblicazione</th>\n",
       "      <th>tipo_contenuto</th>\n",
       "      <th>like</th>\n",
       "      <th>condivisioni</th>\n",
       "      <th>commenti</th>\n",
       "      <th>salvataggi</th>\n",
       "      <th>copertura</th>\n",
       "      <th>follower</th>\n",
       "      <th>weekday</th>\n",
       "      <th>time</th>\n",
       "      <th>fascia_oraria</th>\n",
       "    </tr>\n",
       "  </thead>\n",
       "  <tbody>\n",
       "    <tr>\n",
       "      <th>0</th>\n",
       "      <td>18037066609632734</td>\n",
       "      <td>0</td>\n",
       "      <td>2024-01-03 07:30:00</td>\n",
       "      <td>immagine</td>\n",
       "      <td>440</td>\n",
       "      <td>21</td>\n",
       "      <td>1</td>\n",
       "      <td>22</td>\n",
       "      <td>6829</td>\n",
       "      <td>10</td>\n",
       "      <td>Wed</td>\n",
       "      <td>7</td>\n",
       "      <td>mattina (7-12)</td>\n",
       "    </tr>\n",
       "    <tr>\n",
       "      <th>102</th>\n",
       "      <td>18028728205829229</td>\n",
       "      <td>0</td>\n",
       "      <td>2024-01-04 07:30:00</td>\n",
       "      <td>immagine</td>\n",
       "      <td>206</td>\n",
       "      <td>11</td>\n",
       "      <td>7</td>\n",
       "      <td>7</td>\n",
       "      <td>4227</td>\n",
       "      <td>0</td>\n",
       "      <td>Thu</td>\n",
       "      <td>7</td>\n",
       "      <td>mattina (7-12)</td>\n",
       "    </tr>\n",
       "    <tr>\n",
       "      <th>101</th>\n",
       "      <td>18008919614490760</td>\n",
       "      <td>60</td>\n",
       "      <td>2024-01-05 08:01:00</td>\n",
       "      <td>reel</td>\n",
       "      <td>92</td>\n",
       "      <td>1</td>\n",
       "      <td>0</td>\n",
       "      <td>2</td>\n",
       "      <td>4291</td>\n",
       "      <td>3</td>\n",
       "      <td>Fri</td>\n",
       "      <td>8</td>\n",
       "      <td>mattina (7-12)</td>\n",
       "    </tr>\n",
       "    <tr>\n",
       "      <th>100</th>\n",
       "      <td>18245506138242189</td>\n",
       "      <td>21</td>\n",
       "      <td>2024-01-08 12:34:00</td>\n",
       "      <td>reel</td>\n",
       "      <td>836</td>\n",
       "      <td>2</td>\n",
       "      <td>6</td>\n",
       "      <td>49</td>\n",
       "      <td>30342</td>\n",
       "      <td>291</td>\n",
       "      <td>Mon</td>\n",
       "      <td>12</td>\n",
       "      <td>pomeriggio (12-17)</td>\n",
       "    </tr>\n",
       "    <tr>\n",
       "      <th>99</th>\n",
       "      <td>18016083656078605</td>\n",
       "      <td>0</td>\n",
       "      <td>2024-01-09 07:30:00</td>\n",
       "      <td>carosello</td>\n",
       "      <td>62</td>\n",
       "      <td>0</td>\n",
       "      <td>0</td>\n",
       "      <td>3</td>\n",
       "      <td>2196</td>\n",
       "      <td>0</td>\n",
       "      <td>Tue</td>\n",
       "      <td>7</td>\n",
       "      <td>mattina (7-12)</td>\n",
       "    </tr>\n",
       "  </tbody>\n",
       "</table>\n",
       "</div>"
      ],
      "text/plain": [
       "          Id_contenuto  durata_s  data_pubblicazione tipo_contenuto  like  \\\n",
       "0    18037066609632734         0 2024-01-03 07:30:00       immagine   440   \n",
       "102  18028728205829229         0 2024-01-04 07:30:00       immagine   206   \n",
       "101  18008919614490760        60 2024-01-05 08:01:00           reel    92   \n",
       "100  18245506138242189        21 2024-01-08 12:34:00           reel   836   \n",
       "99   18016083656078605         0 2024-01-09 07:30:00      carosello    62   \n",
       "\n",
       "     condivisioni  commenti  salvataggi  copertura  follower weekday  time  \\\n",
       "0              21         1          22       6829        10     Wed     7   \n",
       "102            11         7           7       4227         0     Thu     7   \n",
       "101             1         0           2       4291         3     Fri     8   \n",
       "100             2         6          49      30342       291     Mon    12   \n",
       "99              0         0           3       2196         0     Tue     7   \n",
       "\n",
       "          fascia_oraria  \n",
       "0        mattina (7-12)  \n",
       "102      mattina (7-12)  \n",
       "101      mattina (7-12)  \n",
       "100  pomeriggio (12-17)  \n",
       "99       mattina (7-12)  "
      ]
     },
     "execution_count": 13,
     "metadata": {},
     "output_type": "execute_result"
    }
   ],
   "source": [
    "# Definire le fasce orarie\n",
    "bins = [7, 12, 17, 24]\n",
    "labels = ['mattina (7-12)', 'pomeriggio (12-17)', 'sera (17-22)']\n",
    "\n",
    "# Creazione nuova colonna 'fascia_oraria'\n",
    "instagram2024['fascia_oraria'] = pd.cut(instagram2024['time'], bins=bins, labels=labels, right=False)\n",
    "\n",
    "instagram2024.head()"
   ]
  },
  {
   "cell_type": "markdown",
   "id": "39a2bf07",
   "metadata": {},
   "source": [
    "### 3.2 Creazione variabile engagement rate (ponderata)\n",
    "\n",
    "Creare una variabile di **engagement rate** è importante perché permette di **misurare in modo chiaro l’interazione reale degli utenti con i contenuti**, andando oltre il semplice numero di like o commenti.\n",
    "In questo modo è possibile **confrontare performance tra post diversi** e ottimizzare la strategia di pubblicazione basandosi su metriche oggettive.\n",
    "\n",
    "Ho assegnato pesi crescenti a ogni interazione basandomi sul livello di sforzo richiesto e sul valore che questa azione rappresenta. Un'azione come il salvataggio o la condivisione indica un coinvolgimento più profondo e un valore percepito maggiore a un semplice \"mi piace\".\n",
    "\n",
    "La formula per ricavare l'engagement rate:\n",
    "```\n",
    "engagement_rate= \n",
    "((like⋅1)+(commenti⋅3)+(condivisioni⋅4)+(salvataggi⋅5)/copertura*100\n",
    "​\n",
    "```\n"
   ]
  },
  {
   "cell_type": "code",
   "execution_count": 14,
   "id": "ca13bd44",
   "metadata": {},
   "outputs": [
    {
     "data": {
      "application/vnd.microsoft.datawrangler.viewer.v0+json": {
       "columns": [
        {
         "name": "index",
         "rawType": "int64",
         "type": "integer"
        },
        {
         "name": "engagement_r",
         "rawType": "float64",
         "type": "float"
        }
       ],
       "ref": "48c3954c-c719-4874-a4a4-67ea61f88576",
       "rows": [
        [
         "0",
         "9.327866451896325"
        ],
        [
         "102",
         "7.23917672107878"
        ],
        [
         "101",
         "2.4702866464693543"
        ],
        [
         "100",
         "3.6484081471228"
        ],
        [
         "99",
         "3.5063752276867035"
        ],
        [
         "98",
         "4.422360248447204"
        ],
        [
         "97",
         "11.065705989891386"
        ],
        [
         "96",
         "6.877547059965069"
        ],
        [
         "95",
         "7.295081967213115"
        ],
        [
         "94",
         "6.728813559322033"
        ],
        [
         "93",
         "5.832719480345543"
        ],
        [
         "92",
         "3.035019455252918"
        ],
        [
         "91",
         "7.723923427259599"
        ],
        [
         "90",
         "9.949506541198073"
        ],
        [
         "89",
         "13.836189076209287"
        ],
        [
         "88",
         "9.065679925994448"
        ],
        [
         "87",
         "5.583155902531346"
        ],
        [
         "86",
         "14.019185739104161"
        ],
        [
         "85",
         "5.36842105263158"
        ],
        [
         "84",
         "4.174757281553398"
        ],
        [
         "83",
         "12.24582471365861"
        ],
        [
         "82",
         "7.92630676949443"
        ],
        [
         "81",
         "5.293054479731475"
        ],
        [
         "80",
         "6.950517836593787"
        ],
        [
         "79",
         "9.719330013580805"
        ],
        [
         "78",
         "9.61734693877551"
        ],
        [
         "77",
         "11.640274166863627"
        ],
        [
         "76",
         "8.801039346696363"
        ],
        [
         "75",
         "4.2682926829268295"
        ],
        [
         "74",
         "10.358108661804474"
        ],
        [
         "73",
         "11.297157622739018"
        ],
        [
         "72",
         "8.28395354349372"
        ],
        [
         "71",
         "7.577703570511174"
        ],
        [
         "70",
         "6.317178955308315"
        ],
        [
         "69",
         "7.593245049204228"
        ],
        [
         "68",
         "4.365278474661315"
        ],
        [
         "67",
         "7.565716810249613"
        ],
        [
         "66",
         "9.827129730571563"
        ],
        [
         "65",
         "8.013430330162283"
        ],
        [
         "64",
         "11.134204275534442"
        ],
        [
         "63",
         "6.544085710149123"
        ],
        [
         "62",
         "4.587817930370994"
        ],
        [
         "61",
         "4.994388327721661"
        ],
        [
         "60",
         "2.356902356902357"
        ],
        [
         "59",
         "9.682695453058553"
        ],
        [
         "58",
         "6.1186561829878485"
        ],
        [
         "57",
         "13.156610831029436"
        ],
        [
         "56",
         "9.38009787928222"
        ],
        [
         "55",
         "6.890793721473895"
        ],
        [
         "54",
         "13.736170212765957"
        ]
       ],
       "shape": {
        "columns": 1,
        "rows": 388
       }
      },
      "text/plain": [
       "0      9.327866\n",
       "102    7.239177\n",
       "101    2.470287\n",
       "100    3.648408\n",
       "99     3.506375\n",
       "         ...   \n",
       "310    6.610445\n",
       "309    3.687850\n",
       "308    6.555449\n",
       "307    4.684466\n",
       "306    4.622841\n",
       "Name: engagement_r, Length: 388, dtype: float64"
      ]
     },
     "execution_count": 14,
     "metadata": {},
     "output_type": "execute_result"
    }
   ],
   "source": [
    "# Creazione di una nuova colonna chiamata 'engagement_rate'\n",
    "instagram2024['engagement_r'] = (instagram2024['like'] * 1 + instagram2024['commenti'] * 3 + instagram2024['condivisioni'] * 4 + instagram2024['salvataggi'] * 5)/instagram2024[\"copertura\"]*100\n",
    "#verifica\n",
    "instagram2024[\"engagement_r\"]"
   ]
  },
  {
   "cell_type": "markdown",
   "id": "202bc5e0",
   "metadata": {},
   "source": [
    "## 4. Analisi \n",
    "\n",
    "In questa sezione:\n",
    "- statistiche descrittive\n",
    "- distribuzione delle variabili\n",
    "- contenuti più e meno coinvolgenti \n",
    "- analisi del formato di pubblicazione del contenuto\n",
    "- analisi durata reel\n",
    "- serie temporali"
   ]
  },
  {
   "cell_type": "markdown",
   "id": "86d6c559",
   "metadata": {},
   "source": [
    "### 4.1 Statistiche descrittive"
   ]
  },
  {
   "cell_type": "markdown",
   "id": "349e4d4b",
   "metadata": {},
   "source": [
    "**Statistiche descrittive riassuntive con describe()**"
   ]
  },
  {
   "cell_type": "code",
   "execution_count": 15,
   "id": "2f6a35c4",
   "metadata": {},
   "outputs": [
    {
     "data": {
      "application/vnd.microsoft.datawrangler.viewer.v0+json": {
       "columns": [
        {
         "name": "index",
         "rawType": "object",
         "type": "string"
        },
        {
         "name": "Id_contenuto",
         "rawType": "float64",
         "type": "float"
        },
        {
         "name": "durata_s",
         "rawType": "float64",
         "type": "float"
        },
        {
         "name": "data_pubblicazione",
         "rawType": "object",
         "type": "unknown"
        },
        {
         "name": "like",
         "rawType": "float64",
         "type": "float"
        },
        {
         "name": "condivisioni",
         "rawType": "float64",
         "type": "float"
        },
        {
         "name": "commenti",
         "rawType": "float64",
         "type": "float"
        },
        {
         "name": "salvataggi",
         "rawType": "float64",
         "type": "float"
        },
        {
         "name": "copertura",
         "rawType": "float64",
         "type": "float"
        },
        {
         "name": "follower",
         "rawType": "float64",
         "type": "float"
        },
        {
         "name": "time",
         "rawType": "float64",
         "type": "float"
        },
        {
         "name": "engagement_r",
         "rawType": "float64",
         "type": "float"
        }
       ],
       "ref": "a9f18de6-0b96-4a91-9223-13d81d83b96c",
       "rows": [
        [
         "count",
         "388.0",
         "388.0",
         "388",
         "388.0",
         "388.0",
         "388.0",
         "388.0",
         "388.0",
         "388.0",
         "388.0",
         "388.0"
        ],
        [
         "mean",
         "1.8047067146576324e+16",
         "57.61082474226804",
         "2024-06-23 18:50:49.175257600",
         "529.2989690721649",
         "23.463917525773194",
         "12.737113402061855",
         "43.31701030927835",
         "13826.30412371134",
         "15.121134020618557",
         "11.082474226804123",
         "6.587149372410001"
        ],
        [
         "min",
         "1.7842012098203444e+16",
         "0.0",
         "2024-01-03 07:30:00",
         "19.0",
         "0.0",
         "0.0",
         "0.0",
         "1782.0",
         "0.0",
         "7.0",
         "0.14544449416905783"
        ],
        [
         "25%",
         "1.7972890243210298e+16",
         "0.0",
         "2024-03-27 14:46:45",
         "147.75",
         "4.0",
         "1.0",
         "6.0",
         "4442.5",
         "1.0",
         "7.0",
         "4.3527156453743805"
        ],
        [
         "50%",
         "1.802699830857415e+16",
         "0.0",
         "2024-06-18 06:28:00",
         "327.0",
         "9.5",
         "3.0",
         "19.0",
         "7180.5",
         "3.0",
         "10.0",
         "6.475464881676414"
        ],
        [
         "75%",
         "1.8066521920613496e+16",
         "80.0",
         "2024-09-23 11:34:00",
         "673.0",
         "29.0",
         "11.0",
         "47.0",
         "13464.5",
         "9.0",
         "15.0",
         "8.546826181021714"
        ],
        [
         "max",
         "1.8468878356006656e+16",
         "2080.0",
         "2024-12-30 07:30:00",
         "5159.0",
         "242.0",
         "418.0",
         "1062.0",
         "427316.0",
         "696.0",
         "22.0",
         "14.136379172838097"
        ],
        [
         "std",
         "139625068468660.78",
         "169.2793834167765",
         null,
         "668.0153205773548",
         "35.592239044777315",
         "36.53482942556411",
         "86.65381550116217",
         "31615.355588664646",
         "52.876612911814995",
         "4.389134112230791",
         "2.9767086264237284"
        ]
       ],
       "shape": {
        "columns": 11,
        "rows": 8
       }
      },
      "text/html": [
       "<div>\n",
       "<style scoped>\n",
       "    .dataframe tbody tr th:only-of-type {\n",
       "        vertical-align: middle;\n",
       "    }\n",
       "\n",
       "    .dataframe tbody tr th {\n",
       "        vertical-align: top;\n",
       "    }\n",
       "\n",
       "    .dataframe thead th {\n",
       "        text-align: right;\n",
       "    }\n",
       "</style>\n",
       "<table border=\"1\" class=\"dataframe\">\n",
       "  <thead>\n",
       "    <tr style=\"text-align: right;\">\n",
       "      <th></th>\n",
       "      <th>Id_contenuto</th>\n",
       "      <th>durata_s</th>\n",
       "      <th>data_pubblicazione</th>\n",
       "      <th>like</th>\n",
       "      <th>condivisioni</th>\n",
       "      <th>commenti</th>\n",
       "      <th>salvataggi</th>\n",
       "      <th>copertura</th>\n",
       "      <th>follower</th>\n",
       "      <th>time</th>\n",
       "      <th>engagement_r</th>\n",
       "    </tr>\n",
       "  </thead>\n",
       "  <tbody>\n",
       "    <tr>\n",
       "      <th>count</th>\n",
       "      <td>3.880000e+02</td>\n",
       "      <td>388.000000</td>\n",
       "      <td>388</td>\n",
       "      <td>388.000000</td>\n",
       "      <td>388.000000</td>\n",
       "      <td>388.000000</td>\n",
       "      <td>388.000000</td>\n",
       "      <td>388.000000</td>\n",
       "      <td>388.000000</td>\n",
       "      <td>388.000000</td>\n",
       "      <td>388.000000</td>\n",
       "    </tr>\n",
       "    <tr>\n",
       "      <th>mean</th>\n",
       "      <td>1.804707e+16</td>\n",
       "      <td>57.610825</td>\n",
       "      <td>2024-06-23 18:50:49.175257600</td>\n",
       "      <td>529.298969</td>\n",
       "      <td>23.463918</td>\n",
       "      <td>12.737113</td>\n",
       "      <td>43.317010</td>\n",
       "      <td>13826.304124</td>\n",
       "      <td>15.121134</td>\n",
       "      <td>11.082474</td>\n",
       "      <td>6.587149</td>\n",
       "    </tr>\n",
       "    <tr>\n",
       "      <th>min</th>\n",
       "      <td>1.784201e+16</td>\n",
       "      <td>0.000000</td>\n",
       "      <td>2024-01-03 07:30:00</td>\n",
       "      <td>19.000000</td>\n",
       "      <td>0.000000</td>\n",
       "      <td>0.000000</td>\n",
       "      <td>0.000000</td>\n",
       "      <td>1782.000000</td>\n",
       "      <td>0.000000</td>\n",
       "      <td>7.000000</td>\n",
       "      <td>0.145444</td>\n",
       "    </tr>\n",
       "    <tr>\n",
       "      <th>25%</th>\n",
       "      <td>1.797289e+16</td>\n",
       "      <td>0.000000</td>\n",
       "      <td>2024-03-27 14:46:45</td>\n",
       "      <td>147.750000</td>\n",
       "      <td>4.000000</td>\n",
       "      <td>1.000000</td>\n",
       "      <td>6.000000</td>\n",
       "      <td>4442.500000</td>\n",
       "      <td>1.000000</td>\n",
       "      <td>7.000000</td>\n",
       "      <td>4.352716</td>\n",
       "    </tr>\n",
       "    <tr>\n",
       "      <th>50%</th>\n",
       "      <td>1.802700e+16</td>\n",
       "      <td>0.000000</td>\n",
       "      <td>2024-06-18 06:28:00</td>\n",
       "      <td>327.000000</td>\n",
       "      <td>9.500000</td>\n",
       "      <td>3.000000</td>\n",
       "      <td>19.000000</td>\n",
       "      <td>7180.500000</td>\n",
       "      <td>3.000000</td>\n",
       "      <td>10.000000</td>\n",
       "      <td>6.475465</td>\n",
       "    </tr>\n",
       "    <tr>\n",
       "      <th>75%</th>\n",
       "      <td>1.806652e+16</td>\n",
       "      <td>80.000000</td>\n",
       "      <td>2024-09-23 11:34:00</td>\n",
       "      <td>673.000000</td>\n",
       "      <td>29.000000</td>\n",
       "      <td>11.000000</td>\n",
       "      <td>47.000000</td>\n",
       "      <td>13464.500000</td>\n",
       "      <td>9.000000</td>\n",
       "      <td>15.000000</td>\n",
       "      <td>8.546826</td>\n",
       "    </tr>\n",
       "    <tr>\n",
       "      <th>max</th>\n",
       "      <td>1.846888e+16</td>\n",
       "      <td>2080.000000</td>\n",
       "      <td>2024-12-30 07:30:00</td>\n",
       "      <td>5159.000000</td>\n",
       "      <td>242.000000</td>\n",
       "      <td>418.000000</td>\n",
       "      <td>1062.000000</td>\n",
       "      <td>427316.000000</td>\n",
       "      <td>696.000000</td>\n",
       "      <td>22.000000</td>\n",
       "      <td>14.136379</td>\n",
       "    </tr>\n",
       "    <tr>\n",
       "      <th>std</th>\n",
       "      <td>1.396251e+14</td>\n",
       "      <td>169.279383</td>\n",
       "      <td>NaN</td>\n",
       "      <td>668.015321</td>\n",
       "      <td>35.592239</td>\n",
       "      <td>36.534829</td>\n",
       "      <td>86.653816</td>\n",
       "      <td>31615.355589</td>\n",
       "      <td>52.876613</td>\n",
       "      <td>4.389134</td>\n",
       "      <td>2.976709</td>\n",
       "    </tr>\n",
       "  </tbody>\n",
       "</table>\n",
       "</div>"
      ],
      "text/plain": [
       "       Id_contenuto     durata_s             data_pubblicazione         like  \\\n",
       "count  3.880000e+02   388.000000                            388   388.000000   \n",
       "mean   1.804707e+16    57.610825  2024-06-23 18:50:49.175257600   529.298969   \n",
       "min    1.784201e+16     0.000000            2024-01-03 07:30:00    19.000000   \n",
       "25%    1.797289e+16     0.000000            2024-03-27 14:46:45   147.750000   \n",
       "50%    1.802700e+16     0.000000            2024-06-18 06:28:00   327.000000   \n",
       "75%    1.806652e+16    80.000000            2024-09-23 11:34:00   673.000000   \n",
       "max    1.846888e+16  2080.000000            2024-12-30 07:30:00  5159.000000   \n",
       "std    1.396251e+14   169.279383                            NaN   668.015321   \n",
       "\n",
       "       condivisioni    commenti   salvataggi      copertura    follower  \\\n",
       "count    388.000000  388.000000   388.000000     388.000000  388.000000   \n",
       "mean      23.463918   12.737113    43.317010   13826.304124   15.121134   \n",
       "min        0.000000    0.000000     0.000000    1782.000000    0.000000   \n",
       "25%        4.000000    1.000000     6.000000    4442.500000    1.000000   \n",
       "50%        9.500000    3.000000    19.000000    7180.500000    3.000000   \n",
       "75%       29.000000   11.000000    47.000000   13464.500000    9.000000   \n",
       "max      242.000000  418.000000  1062.000000  427316.000000  696.000000   \n",
       "std       35.592239   36.534829    86.653816   31615.355589   52.876613   \n",
       "\n",
       "             time  engagement_r  \n",
       "count  388.000000    388.000000  \n",
       "mean    11.082474      6.587149  \n",
       "min      7.000000      0.145444  \n",
       "25%      7.000000      4.352716  \n",
       "50%     10.000000      6.475465  \n",
       "75%     15.000000      8.546826  \n",
       "max     22.000000     14.136379  \n",
       "std      4.389134      2.976709  "
      ]
     },
     "execution_count": 15,
     "metadata": {},
     "output_type": "execute_result"
    }
   ],
   "source": [
    "instagram2024.describe()"
   ]
  },
  {
   "cell_type": "markdown",
   "id": "465b9c83",
   "metadata": {},
   "source": [
    "Alcuni **insight**:\n",
    "- sono presenti **388** contenuti;\n",
    "- la durata media dei Reel è di **58 secondi**, il **75%** dei contenuti ha una durata pari o inferiore a 80 secondi, la durata massima è di 2080 secondi;\n",
    "- la media di like per contenuto è di **529**, il contenuto che è andato peggio ha ricevuto **19** like, quello che è andato meglio ne ha ricevuti **5159**, il **25%** dei contenuti ha ricevuto un numero di mi piace pari o superiore a **673**;\n",
    "- sono presenti dei contenuti che non hanno ottenuto condivisioni o commenti o salvataggi;\n",
    "- confrontando condivisioni, commenti e salvataggi si nota che i salvataggi registrano valori più alti;\n",
    "- i contenuti non generano un'alto tasso di acquisizione diretta di follower;\n",
    "- l'engagement rate medio è di **4,76**"
   ]
  },
  {
   "cell_type": "markdown",
   "id": "d9a6b06e",
   "metadata": {},
   "source": [
    "**Statistiche descrittive dei tipi di contenuto**"
   ]
  },
  {
   "cell_type": "code",
   "execution_count": 21,
   "id": "e00d1482",
   "metadata": {},
   "outputs": [
    {
     "name": "stdout",
     "output_type": "stream",
     "text": [
      "Statistiche per tipo di contenuto:\n",
      "                      like                commenti              salvataggi  \\\n",
      "                      mean median count       mean median count       mean   \n",
      "tipo_contenuto                                                               \n",
      "carosello       280.877193  101.0    57   8.912281    0.0    57  13.982456   \n",
      "immagine        390.940120  253.0   167   4.377246    1.0   167  29.000000   \n",
      "reel            756.530488  529.5   164  22.579268    8.0   164  68.091463   \n",
      "\n",
      "                            condivisioni              engagement_r            \\\n",
      "               median count         mean median count         mean    median   \n",
      "tipo_contenuto                                                                 \n",
      "carosello         5.0    57    12.157895    4.0    57     5.407296  4.592997   \n",
      "immagine         20.0   167    23.748503   12.0   167     6.372668  6.257449   \n",
      "reel             34.5   164    27.103659   13.0   164     7.215625  7.402702   \n",
      "\n",
      "                      \n",
      "               count  \n",
      "tipo_contenuto        \n",
      "carosello         57  \n",
      "immagine         167  \n",
      "reel             164  \n",
      "\n",
      "--------------------------------------------------\n",
      "\n"
     ]
    }
   ],
   "source": [
    "# Calcolo delle statistiche riassuntive per ogni tipo di contenuto\n",
    "# Questo mostra media e mediana per like e commenti per ogni categoria\n",
    "performance_per_tipo = instagram2024.groupby('tipo_contenuto')[['like','commenti',\"salvataggi\",\"condivisioni\",\"engagement_r\"]].agg(['mean', 'median', 'count'])\n",
    "print(\"Statistiche per tipo di contenuto:\")\n",
    "print(performance_per_tipo)\n",
    "print(\"\\n\" + \"-\"*50 + \"\\n\")"
   ]
  },
  {
   "cell_type": "markdown",
   "id": "3d3370c0",
   "metadata": {},
   "source": [
    "- I valori di medie e mediane, di like, commenti, salvataggi e condivisioni mostrano delle grandi differenze. Questo suggerisce di analizzare nel dettaglio la distribuzione di questi valori per verificare la presenza di outlier.\n",
    "- L'engagement rate (ER) ha normalizzare i dati, rendendo le differenze tra le medie e le mediane meno estreme rispetto a metriche assolute come i like. "
   ]
  },
  {
   "cell_type": "markdown",
   "id": "20728de7",
   "metadata": {},
   "source": [
    "**Prossimo passo**: verificare la distribuzione delle variabili e outlier"
   ]
  },
  {
   "cell_type": "markdown",
   "id": "e5d4d3d5",
   "metadata": {},
   "source": [
    "### 4.2 Distribuzione delle variabili"
   ]
  },
  {
   "cell_type": "markdown",
   "id": "4d79ccb5",
   "metadata": {},
   "source": [
    "**Distribuzione like, commenti, condivisioni e salvataggi.**"
   ]
  },
  {
   "cell_type": "code",
   "execution_count": null,
   "id": "36bf4ed6",
   "metadata": {},
   "outputs": [
    {
     "data": {
      "image/png": "[encoded data removed]",
      "text/plain": [
       "<Figure size 1200x800 with 4 Axes>"
      ]
     },
     "metadata": {},
     "output_type": "display_data"
    }
   ],
   "source": [
    "# Un semplice subplot con 4 metriche\n",
    "fig, axes = plt.subplots(2, 2, figsize=(12, 8))\n",
    "axes[0,0].hist(instagram2024['like'], bins=30)\n",
    "axes[0,0].set_title('Like')\n",
    "axes[0,1].hist(instagram2024['commenti'], bins=30)\n",
    "axes[0,1].set_title('Commenti')\n",
    "axes[1,0].hist(instagram2024['condivisioni'], bins=30)\n",
    "axes[1,0].set_title('Condivisioni')\n",
    "axes[1,1].hist(instagram2024['salvataggi'], bins=30)\n",
    "axes[1,1].set_title('Salvataggi')\n",
    "plt.tight_layout()"
   ]
  },
  {
   "cell_type": "markdown",
   "id": "5c905bee",
   "metadata": {},
   "source": [
    "**Distribuzione engagement rate**"
   ]
  },
  {
   "cell_type": "code",
   "execution_count": 20,
   "id": "310767be",
   "metadata": {},
   "outputs": [
    {
     "data": {
      "image/png": "[encoded data removed]",
      "text/plain": [
       "<Figure size 1000x600 with 1 Axes>"
      ]
     },
     "metadata": {},
     "output_type": "display_data"
    }
   ],
   "source": [
    "plt.figure(figsize=(10, 6))\n",
    "sns.histplot(data=instagram2024, x='engagement_r', bins=30, kde=True)\n",
    "plt.title('Distribuzione dell\\'engagement rate')\n",
    "plt.xlabel('Engagement rate (%)')\n",
    "plt.ylabel('Frequenza')\n",
    "plt.show()"
   ]
  },
  {
   "cell_type": "markdown",
   "id": "88b67aed",
   "metadata": {},
   "source": [
    "La distribuzione delle metriche principali segua una distribuzione a coda lunga, questo significa che la maggiorparte delle interazione rientra in determinato range e sono presenti alcuni valori anomali che rappresentano i contenuti che sono stati eccezionalmente performanti.\n",
    "\n",
    "Questo evidenzia l'importanza di non basarsi unicamente su metriche aggregate come la media che può essere fuorviata da pochi contenuti di successo.\n",
    "\n",
    "Per un'analisi più efficace includerò l'uso della metrica dell'engagement rate perché, a differenza delle singole metriche con la loro distribuzione a coda lunga, normalizza i dati rispetto alla copertura. Questo fornisce una visione più equilibrata ed equa, rendendo i confronti tra i contenuti più affidabili e riducendo l'impatto distorsivo dei pochi post eccezionalmente performanti."
   ]
  },
  {
   "cell_type": "markdown",
   "id": "0f3caebc",
   "metadata": {},
   "source": [
    "#### **Matrice di correlazione delle metriche di engagement e visualizzazione con heatmap**"
   ]
  },
  {
   "cell_type": "markdown",
   "id": "cef54c58",
   "metadata": {},
   "source": [
    "Dopo aver creato un engagement rate ponderato, l'analisi della matrice di correlazione è cruciale per capirne il comportamento. La correlazione tra le metriche di engagement (like, commenti, ecc.) ci aiuta a verificare se le azioni degli utenti tendono a verificarsi insieme e a convalidare la logica dietro l'assegnazione dei pesi. Se le correlazioni sono basse, significa che stiamo catturando aspetti diversi del coinvolgimento e che la ponderazione è giustificata."
   ]
  },
  {
   "cell_type": "code",
   "execution_count": 27,
   "id": "3b3fbe78",
   "metadata": {},
   "outputs": [
    {
     "data": {
      "image/png": "[encoded data removed]",
      "text/plain": [
       "<Figure size 1000x800 with 2 Axes>"
      ]
     },
     "metadata": {},
     "output_type": "display_data"
    }
   ],
   "source": [
    "# Seleziona solo le colonne numeriche rilevanti\n",
    "df_numerico = instagram2024[[\"like\", \"condivisioni\", \"commenti\", \"salvataggi\", \"copertura\", \"engagement_r\"]]\n",
    "\n",
    "# Calcola la matrice di correlazione\n",
    "matrice_correlazione = df_numerico.corr()\n",
    "\n",
    "# Visualizza la heatmap\n",
    "plt.figure(figsize=(10, 8))\n",
    "sns.heatmap(matrice_correlazione, annot=True, cmap='coolwarm', fmt=\".2f\")\n",
    "plt.title('Matrice di Correlazione tra le metriche di engagement')\n",
    "plt.show()"
   ]
  },
  {
   "cell_type": "markdown",
   "id": "7ab1a820",
   "metadata": {},
   "source": [
    ">_Note sul grafico_ : \n",
    "- Le metriche (like, commenti, ecc.) sono diverse, ma un po' correlate tra loro. Questo è un bene. Se fossero state correlate in modo quasi perfetto, i pesi che ho assegnato non avrebbero avuto senso. Dato che la correlazione non è perfetta, i pesi differenziati sono giustificati perché sto misurando azioni diverse.\n",
    "\n",
    "- L'engagement rate ponderatoha una bassa correlazione con ciascuna delle singole metriche (come i like da soli, i commenti da soli, ecc.). Anche questo è un bene, perché significa che la metrica non è influenzata e dominata da una sola di esse. Invece, rappresenta una visione complessiva e bilanciata di tutte le interazioni, rendendola uno strumento più affidabile per l'analisi."
   ]
  },
  {
   "cell_type": "markdown",
   "id": "e1045355",
   "metadata": {},
   "source": [
    "#### **Conclusioni sulla correlazione**\n",
    "L'analisi di correlazione ha fornito insight importanti sulle metriche di engagement:\n",
    "\n",
    "- **Salvataggi e mi piace**: Con un valore di 0.79, è la correlazione più forte. Ciò suggerisce che i post che piacciono di più sono anche quelli che le persone tendono a salvare.\n",
    "\n",
    "- **Mi piace e commenti/condivisioni**: Con valori di 0.75, queste metriche sono fortemente legate. Chi mette un \"mi piace\" è molto propenso anche a commentare o a condividere.\n",
    "\n",
    "- **Salvataggi e copertura**: Un valore di 0.73 indica una forte correlazione. Questo è un dato cruciale: i salvataggi sono fortemente associati a una maggiore copertura. Ciò suggerisce che l'algoritmo di Instagram potrebbe dare molta importanza ai salvataggi per spingere i post.\n",
    "\n",
    "- **Copertura e engagement non sono correlate**: La correlazione tra copertura e engagement_rate è quasi inesistente (-0.08). Questo smentisce l'idea che una maggiore visibilità porti automaticamente a un più alto tasso di interazione."
   ]
  },
  {
   "cell_type": "markdown",
   "id": "a1e36200",
   "metadata": {},
   "source": [
    "### 4.3 Contenuti più e meno coinvolgenti "
   ]
  },
  {
   "cell_type": "markdown",
   "id": "7fb51b44",
   "metadata": {},
   "source": [
    "Utilizzando la metrica chiave dell'engagement rate, sono stati filtrati i contenuti più performanti e i meno performanti."
   ]
  },
  {
   "cell_type": "markdown",
   "id": "023a6028",
   "metadata": {},
   "source": [
    "**Top 5**"
   ]
  },
  {
   "cell_type": "code",
   "execution_count": 28,
   "id": "3fc8b7af",
   "metadata": {},
   "outputs": [
    {
     "data": {
      "application/vnd.microsoft.datawrangler.viewer.v0+json": {
       "columns": [
        {
         "name": "index",
         "rawType": "int64",
         "type": "integer"
        },
        {
         "name": "Id_contenuto",
         "rawType": "int64",
         "type": "integer"
        },
        {
         "name": "engagement_r",
         "rawType": "float64",
         "type": "float"
        },
        {
         "name": "tipo_contenuto",
         "rawType": "object",
         "type": "string"
        }
       ],
       "ref": "bccb6315-41be-4dd0-bb35-93a92c72605a",
       "rows": [
        [
         "244",
         "18361477315107751",
         "14.136379172838097",
         "reel"
        ],
        [
         "86",
         "18025252711911530",
         "14.019185739104161",
         "carosello"
        ],
        [
         "140",
         "17983095245520152",
         "13.867362753895096",
         "reel"
        ],
        [
         "89",
         "18095215006384069",
         "13.836189076209287",
         "reel"
        ],
        [
         "54",
         "18017785402898238",
         "13.736170212765957",
         "immagine"
        ]
       ],
       "shape": {
        "columns": 3,
        "rows": 5
       }
      },
      "text/html": [
       "<div>\n",
       "<style scoped>\n",
       "    .dataframe tbody tr th:only-of-type {\n",
       "        vertical-align: middle;\n",
       "    }\n",
       "\n",
       "    .dataframe tbody tr th {\n",
       "        vertical-align: top;\n",
       "    }\n",
       "\n",
       "    .dataframe thead th {\n",
       "        text-align: right;\n",
       "    }\n",
       "</style>\n",
       "<table border=\"1\" class=\"dataframe\">\n",
       "  <thead>\n",
       "    <tr style=\"text-align: right;\">\n",
       "      <th></th>\n",
       "      <th>Id_contenuto</th>\n",
       "      <th>engagement_r</th>\n",
       "      <th>tipo_contenuto</th>\n",
       "    </tr>\n",
       "  </thead>\n",
       "  <tbody>\n",
       "    <tr>\n",
       "      <th>244</th>\n",
       "      <td>18361477315107751</td>\n",
       "      <td>14.136379</td>\n",
       "      <td>reel</td>\n",
       "    </tr>\n",
       "    <tr>\n",
       "      <th>86</th>\n",
       "      <td>18025252711911530</td>\n",
       "      <td>14.019186</td>\n",
       "      <td>carosello</td>\n",
       "    </tr>\n",
       "    <tr>\n",
       "      <th>140</th>\n",
       "      <td>17983095245520152</td>\n",
       "      <td>13.867363</td>\n",
       "      <td>reel</td>\n",
       "    </tr>\n",
       "    <tr>\n",
       "      <th>89</th>\n",
       "      <td>18095215006384069</td>\n",
       "      <td>13.836189</td>\n",
       "      <td>reel</td>\n",
       "    </tr>\n",
       "    <tr>\n",
       "      <th>54</th>\n",
       "      <td>18017785402898238</td>\n",
       "      <td>13.736170</td>\n",
       "      <td>immagine</td>\n",
       "    </tr>\n",
       "  </tbody>\n",
       "</table>\n",
       "</div>"
      ],
      "text/plain": [
       "          Id_contenuto  engagement_r tipo_contenuto\n",
       "244  18361477315107751     14.136379           reel\n",
       "86   18025252711911530     14.019186      carosello\n",
       "140  17983095245520152     13.867363           reel\n",
       "89   18095215006384069     13.836189           reel\n",
       "54   18017785402898238     13.736170       immagine"
      ]
     },
     "execution_count": 28,
     "metadata": {},
     "output_type": "execute_result"
    }
   ],
   "source": [
    "instagram2024.sort_values(by=\"engagement_r\", ascending=False).head(5)[[\"Id_contenuto\", \"engagement_r\", \"tipo_contenuto\"]]\n"
   ]
  },
  {
   "cell_type": "markdown",
   "id": "bc1a6dad",
   "metadata": {},
   "source": [
    "**Bottom 5**"
   ]
  },
  {
   "cell_type": "code",
   "execution_count": 29,
   "id": "e734415f",
   "metadata": {},
   "outputs": [
    {
     "data": {
      "application/vnd.microsoft.datawrangler.viewer.v0+json": {
       "columns": [
        {
         "name": "index",
         "rawType": "int64",
         "type": "integer"
        },
        {
         "name": "Id_contenuto",
         "rawType": "int64",
         "type": "integer"
        },
        {
         "name": "engagement_r",
         "rawType": "float64",
         "type": "float"
        },
        {
         "name": "tipo_contenuto",
         "rawType": "object",
         "type": "string"
        }
       ],
       "ref": "201d629e-5ad1-48da-81e4-f6d438d85a05",
       "rows": [
        [
         "216",
         "17927531099952376",
         "0.14544449416905783",
         "reel"
        ],
        [
         "235",
         "18066295747612313",
         "0.3633508049186356",
         "reel"
        ],
        [
         "108",
         "17872273371082875",
         "0.7194244604316548",
         "carosello"
        ],
        [
         "222",
         "17870242767125546",
         "1.0251513857132089",
         "reel"
        ],
        [
         "276",
         "17948669531821322",
         "1.0587102983638113",
         "immagine"
        ]
       ],
       "shape": {
        "columns": 3,
        "rows": 5
       }
      },
      "text/html": [
       "<div>\n",
       "<style scoped>\n",
       "    .dataframe tbody tr th:only-of-type {\n",
       "        vertical-align: middle;\n",
       "    }\n",
       "\n",
       "    .dataframe tbody tr th {\n",
       "        vertical-align: top;\n",
       "    }\n",
       "\n",
       "    .dataframe thead th {\n",
       "        text-align: right;\n",
       "    }\n",
       "</style>\n",
       "<table border=\"1\" class=\"dataframe\">\n",
       "  <thead>\n",
       "    <tr style=\"text-align: right;\">\n",
       "      <th></th>\n",
       "      <th>Id_contenuto</th>\n",
       "      <th>engagement_r</th>\n",
       "      <th>tipo_contenuto</th>\n",
       "    </tr>\n",
       "  </thead>\n",
       "  <tbody>\n",
       "    <tr>\n",
       "      <th>216</th>\n",
       "      <td>17927531099952376</td>\n",
       "      <td>0.145444</td>\n",
       "      <td>reel</td>\n",
       "    </tr>\n",
       "    <tr>\n",
       "      <th>235</th>\n",
       "      <td>18066295747612313</td>\n",
       "      <td>0.363351</td>\n",
       "      <td>reel</td>\n",
       "    </tr>\n",
       "    <tr>\n",
       "      <th>108</th>\n",
       "      <td>17872273371082875</td>\n",
       "      <td>0.719424</td>\n",
       "      <td>carosello</td>\n",
       "    </tr>\n",
       "    <tr>\n",
       "      <th>222</th>\n",
       "      <td>17870242767125546</td>\n",
       "      <td>1.025151</td>\n",
       "      <td>reel</td>\n",
       "    </tr>\n",
       "    <tr>\n",
       "      <th>276</th>\n",
       "      <td>17948669531821322</td>\n",
       "      <td>1.058710</td>\n",
       "      <td>immagine</td>\n",
       "    </tr>\n",
       "  </tbody>\n",
       "</table>\n",
       "</div>"
      ],
      "text/plain": [
       "          Id_contenuto  engagement_r tipo_contenuto\n",
       "216  17927531099952376      0.145444           reel\n",
       "235  18066295747612313      0.363351           reel\n",
       "108  17872273371082875      0.719424      carosello\n",
       "222  17870242767125546      1.025151           reel\n",
       "276  17948669531821322      1.058710       immagine"
      ]
     },
     "execution_count": 29,
     "metadata": {},
     "output_type": "execute_result"
    }
   ],
   "source": [
    "instagram2024.sort_values(by=\"engagement_r\", ascending=True).head(5)[[\"Id_contenuto\", \"engagement_r\", \"tipo_contenuto\"]]"
   ]
  },
  {
   "cell_type": "markdown",
   "id": "8175e847",
   "metadata": {},
   "source": [
    ">_Nota_ : questa sezione presenta i 5 contenuti con il più alto e il più basso engagement, basandosi esclusivamente sui dati di id_contenuto forniti.\n",
    "\n",
    ">Per un'analisi più completa, che ho svolto originariamente, ho creato variabili categoriche su argomenti, temi e tipologia di contenuto. Ho poi esaminato la correlazione tra queste variabili e le metriche di engagement. In questo modo è stato possibile determinare i fattori chiave del successo dei contenuti."
   ]
  },
  {
   "cell_type": "markdown",
   "id": "6d546f41",
   "metadata": {},
   "source": [
    "### 4.4 Analisi del formato di pubblicazione del contenuto"
   ]
  },
  {
   "cell_type": "markdown",
   "id": "9750d7da",
   "metadata": {},
   "source": [
    "**Panoramica della distribuzione e conteggio di formato di pubblicazione**"
   ]
  },
  {
   "cell_type": "code",
   "execution_count": 22,
   "id": "345833d1",
   "metadata": {},
   "outputs": [
    {
     "data": {
      "image/png": "[encoded data removed]",
      "text/plain": [
       "<Figure size 640x480 with 1 Axes>"
      ]
     },
     "metadata": {},
     "output_type": "display_data"
    },
    {
     "name": "stdout",
     "output_type": "stream",
     "text": [
      "Distribuzione contenuti:\n",
      "     - Reel: 42.3%\n",
      "     - Immagini: 43.0%\n",
      "     - Caroselli: 14.7%\n"
     ]
    }
   ],
   "source": [
    "# Distribuzione dei tipi di contenuto\n",
    "distribuzione_contenuti = instagram2024.groupby(\"tipo_contenuto\").size()\n",
    "\n",
    "#------ Grafico ----\n",
    "#grafico a barre\n",
    "distribuzione_contenuti.plot(kind=\"bar\", rot=0)\n",
    "plt.ylabel(\"Numero di contenuti\")\n",
    "plt.xlabel(\"Tipo di contenuto\")\n",
    "# Mostrare valori sopra le barre \n",
    "plt.bar_label(plt.gca().containers[0])\n",
    "plt.show()\n",
    "#--------------------\n",
    "\n",
    "#---- Percentuale tipi di contenuto ---\n",
    "conteggi = instagram2024[\"tipo_contenuto\"].value_counts()\n",
    "totale = len(instagram2024)\n",
    "\n",
    "print(f\"\"\"Distribuzione contenuti:\n",
    "     - Reel: {conteggi['reel']/totale*100:.1f}%\n",
    "     - Immagini: {conteggi['immagine']/totale*100:.1f}%\n",
    "     - Caroselli: {conteggi['carosello']/totale*100:.1f}%\"\"\")\n",
    "\n"
   ]
  },
  {
   "cell_type": "markdown",
   "id": "0f077aae",
   "metadata": {},
   "source": [
    "Reel e immagini sono i formati più usati per le pubblicazioni."
   ]
  },
  {
   "cell_type": "markdown",
   "id": "df5a6700",
   "metadata": {},
   "source": [
    "**Analisi formato più performante in termini di engagement rate**"
   ]
  },
  {
   "cell_type": "code",
   "execution_count": 23,
   "id": "7047d53d",
   "metadata": {},
   "outputs": [
    {
     "data": {
      "image/png": "[encoded data removed]",
      "text/plain": [
       "<Figure size 640x480 with 1 Axes>"
      ]
     },
     "metadata": {},
     "output_type": "display_data"
    }
   ],
   "source": [
    "formato_performante = instagram2024.groupby(\"tipo_contenuto\")[\"engagement_r\"].mean()\n",
    "\n",
    "formato_performante.plot(kind=\"bar\")\n",
    "plt.ylabel(\"tasso engagement rate\")\n",
    "plt.show()"
   ]
  },
  {
   "cell_type": "markdown",
   "id": "9f34ba24",
   "metadata": {},
   "source": [
    ">_Osservazione_ : dato che si sono osservate differenze tra i formati, procediamo con un test ANOVA per verificare se queste differenze siano statisticamente significative."
   ]
  },
  {
   "cell_type": "markdown",
   "id": "fad09402",
   "metadata": {},
   "source": [
    "#### **test ANOVA sull'ipotesi di formato più performante**"
   ]
  },
  {
   "cell_type": "code",
   "execution_count": 34,
   "id": "704eb073",
   "metadata": {},
   "outputs": [
    {
     "name": "stdout",
     "output_type": "stream",
     "text": [
      "F-statistic: 8.92, P-value: 0.000\n"
     ]
    }
   ],
   "source": [
    "immagine = instagram2024[instagram2024[\"tipo_contenuto\"] == \"immagine\"][\"engagement_r\"]\n",
    "reel = instagram2024[instagram2024[\"tipo_contenuto\"] == \"reel\"][\"engagement_r\"]\n",
    "carosello = instagram2024[instagram2024[\"tipo_contenuto\"] == \"carosello\"][\"engagement_r\"]\n",
    "\n",
    "f_stat, p_value = stats.f_oneway(immagine, reel, carosello)\n",
    "print(f\"F-statistic: {f_stat:.2f}, P-value: {p_value:.3f}\")"
   ]
  },
  {
   "cell_type": "markdown",
   "id": "0e319954",
   "metadata": {},
   "source": [
    "L’ANOVA mostra che il formato di pubblicazione influenza significativamente l’engagement rate e conferma statisticamente che le differenze tra categorie non sono dovute al caso."
   ]
  },
  {
   "cell_type": "markdown",
   "id": "40fada39",
   "metadata": {},
   "source": [
    "### 4.5 Analisi reel"
   ]
  },
  {
   "cell_type": "markdown",
   "id": "ad196a76",
   "metadata": {},
   "source": [
    "Allo scopo di comprendere meglio quale formato di reel converte meglio, effettuerò ulteriori analisi confrontanto le durate dei video per scoprire possibili correlazioni."
   ]
  },
  {
   "cell_type": "code",
   "execution_count": 35,
   "id": "0255cb8c",
   "metadata": {},
   "outputs": [
    {
     "data": {
      "application/vnd.microsoft.datawrangler.viewer.v0+json": {
       "columns": [
        {
         "name": "index",
         "rawType": "int64",
         "type": "integer"
        },
        {
         "name": "Id_contenuto",
         "rawType": "int64",
         "type": "integer"
        },
        {
         "name": "durata_s",
         "rawType": "int64",
         "type": "integer"
        },
        {
         "name": "data_pubblicazione",
         "rawType": "datetime64[ns]",
         "type": "datetime"
        },
        {
         "name": "tipo_contenuto",
         "rawType": "object",
         "type": "string"
        },
        {
         "name": "like",
         "rawType": "int64",
         "type": "integer"
        },
        {
         "name": "condivisioni",
         "rawType": "int64",
         "type": "integer"
        },
        {
         "name": "commenti",
         "rawType": "int64",
         "type": "integer"
        },
        {
         "name": "salvataggi",
         "rawType": "int64",
         "type": "integer"
        },
        {
         "name": "copertura",
         "rawType": "int64",
         "type": "integer"
        },
        {
         "name": "follower",
         "rawType": "int64",
         "type": "integer"
        },
        {
         "name": "weekday",
         "rawType": "object",
         "type": "string"
        },
        {
         "name": "time",
         "rawType": "int32",
         "type": "integer"
        },
        {
         "name": "fascia_oraria",
         "rawType": "category",
         "type": "unknown"
        },
        {
         "name": "engagement_r",
         "rawType": "float64",
         "type": "float"
        }
       ],
       "ref": "aa78e9ba-a43d-4c81-b6cc-06df0dfc874d",
       "rows": [
        [
         "101",
         "18008919614490760",
         "60",
         "2024-01-05 08:01:00",
         "reel",
         "92",
         "1",
         "0",
         "2",
         "4291",
         "3",
         "Fri",
         "8",
         "mattina (7-12)",
         "2.4702866464693543"
        ],
        [
         "100",
         "18245506138242189",
         "21",
         "2024-01-08 12:34:00",
         "reel",
         "836",
         "2",
         "6",
         "49",
         "30342",
         "291",
         "Mon",
         "12",
         "pomeriggio (12-17)",
         "3.6484081471228"
        ],
        [
         "98",
         "18033686371706762",
         "78",
         "2024-01-10 11:11:00",
         "reel",
         "130",
         "3",
         "2",
         "6",
         "4025",
         "2",
         "Wed",
         "11",
         "mattina (7-12)",
         "4.422360248447204"
        ],
        [
         "96",
         "18001731164366762",
         "90",
         "2024-01-12 10:15:00",
         "reel",
         "983",
         "46",
         "5",
         "118",
         "25765",
         "39",
         "Fri",
         "10",
         "mattina (7-12)",
         "6.877547059965069"
        ],
        [
         "93",
         "18031792999790534",
         "38",
         "2024-01-15 10:26:00",
         "reel",
         "633",
         "10",
         "1",
         "39",
         "14933",
         "17",
         "Mon",
         "10",
         "mattina (7-12)",
         "5.832719480345543"
        ]
       ],
       "shape": {
        "columns": 14,
        "rows": 5
       }
      },
      "text/html": [
       "<div>\n",
       "<style scoped>\n",
       "    .dataframe tbody tr th:only-of-type {\n",
       "        vertical-align: middle;\n",
       "    }\n",
       "\n",
       "    .dataframe tbody tr th {\n",
       "        vertical-align: top;\n",
       "    }\n",
       "\n",
       "    .dataframe thead th {\n",
       "        text-align: right;\n",
       "    }\n",
       "</style>\n",
       "<table border=\"1\" class=\"dataframe\">\n",
       "  <thead>\n",
       "    <tr style=\"text-align: right;\">\n",
       "      <th></th>\n",
       "      <th>Id_contenuto</th>\n",
       "      <th>durata_s</th>\n",
       "      <th>data_pubblicazione</th>\n",
       "      <th>tipo_contenuto</th>\n",
       "      <th>like</th>\n",
       "      <th>condivisioni</th>\n",
       "      <th>commenti</th>\n",
       "      <th>salvataggi</th>\n",
       "      <th>copertura</th>\n",
       "      <th>follower</th>\n",
       "      <th>weekday</th>\n",
       "      <th>time</th>\n",
       "      <th>fascia_oraria</th>\n",
       "      <th>engagement_r</th>\n",
       "    </tr>\n",
       "  </thead>\n",
       "  <tbody>\n",
       "    <tr>\n",
       "      <th>101</th>\n",
       "      <td>18008919614490760</td>\n",
       "      <td>60</td>\n",
       "      <td>2024-01-05 08:01:00</td>\n",
       "      <td>reel</td>\n",
       "      <td>92</td>\n",
       "      <td>1</td>\n",
       "      <td>0</td>\n",
       "      <td>2</td>\n",
       "      <td>4291</td>\n",
       "      <td>3</td>\n",
       "      <td>Fri</td>\n",
       "      <td>8</td>\n",
       "      <td>mattina (7-12)</td>\n",
       "      <td>2.470287</td>\n",
       "    </tr>\n",
       "    <tr>\n",
       "      <th>100</th>\n",
       "      <td>18245506138242189</td>\n",
       "      <td>21</td>\n",
       "      <td>2024-01-08 12:34:00</td>\n",
       "      <td>reel</td>\n",
       "      <td>836</td>\n",
       "      <td>2</td>\n",
       "      <td>6</td>\n",
       "      <td>49</td>\n",
       "      <td>30342</td>\n",
       "      <td>291</td>\n",
       "      <td>Mon</td>\n",
       "      <td>12</td>\n",
       "      <td>pomeriggio (12-17)</td>\n",
       "      <td>3.648408</td>\n",
       "    </tr>\n",
       "    <tr>\n",
       "      <th>98</th>\n",
       "      <td>18033686371706762</td>\n",
       "      <td>78</td>\n",
       "      <td>2024-01-10 11:11:00</td>\n",
       "      <td>reel</td>\n",
       "      <td>130</td>\n",
       "      <td>3</td>\n",
       "      <td>2</td>\n",
       "      <td>6</td>\n",
       "      <td>4025</td>\n",
       "      <td>2</td>\n",
       "      <td>Wed</td>\n",
       "      <td>11</td>\n",
       "      <td>mattina (7-12)</td>\n",
       "      <td>4.422360</td>\n",
       "    </tr>\n",
       "    <tr>\n",
       "      <th>96</th>\n",
       "      <td>18001731164366762</td>\n",
       "      <td>90</td>\n",
       "      <td>2024-01-12 10:15:00</td>\n",
       "      <td>reel</td>\n",
       "      <td>983</td>\n",
       "      <td>46</td>\n",
       "      <td>5</td>\n",
       "      <td>118</td>\n",
       "      <td>25765</td>\n",
       "      <td>39</td>\n",
       "      <td>Fri</td>\n",
       "      <td>10</td>\n",
       "      <td>mattina (7-12)</td>\n",
       "      <td>6.877547</td>\n",
       "    </tr>\n",
       "    <tr>\n",
       "      <th>93</th>\n",
       "      <td>18031792999790534</td>\n",
       "      <td>38</td>\n",
       "      <td>2024-01-15 10:26:00</td>\n",
       "      <td>reel</td>\n",
       "      <td>633</td>\n",
       "      <td>10</td>\n",
       "      <td>1</td>\n",
       "      <td>39</td>\n",
       "      <td>14933</td>\n",
       "      <td>17</td>\n",
       "      <td>Mon</td>\n",
       "      <td>10</td>\n",
       "      <td>mattina (7-12)</td>\n",
       "      <td>5.832719</td>\n",
       "    </tr>\n",
       "  </tbody>\n",
       "</table>\n",
       "</div>"
      ],
      "text/plain": [
       "          Id_contenuto  durata_s  data_pubblicazione tipo_contenuto  like  \\\n",
       "101  18008919614490760        60 2024-01-05 08:01:00           reel    92   \n",
       "100  18245506138242189        21 2024-01-08 12:34:00           reel   836   \n",
       "98   18033686371706762        78 2024-01-10 11:11:00           reel   130   \n",
       "96   18001731164366762        90 2024-01-12 10:15:00           reel   983   \n",
       "93   18031792999790534        38 2024-01-15 10:26:00           reel   633   \n",
       "\n",
       "     condivisioni  commenti  salvataggi  copertura  follower weekday  time  \\\n",
       "101             1         0           2       4291         3     Fri     8   \n",
       "100             2         6          49      30342       291     Mon    12   \n",
       "98              3         2           6       4025         2     Wed    11   \n",
       "96             46         5         118      25765        39     Fri    10   \n",
       "93             10         1          39      14933        17     Mon    10   \n",
       "\n",
       "          fascia_oraria  engagement_r  \n",
       "101      mattina (7-12)      2.470287  \n",
       "100  pomeriggio (12-17)      3.648408  \n",
       "98       mattina (7-12)      4.422360  \n",
       "96       mattina (7-12)      6.877547  \n",
       "93       mattina (7-12)      5.832719  "
      ]
     },
     "execution_count": 35,
     "metadata": {},
     "output_type": "execute_result"
    }
   ],
   "source": [
    "instagram_reel = instagram2024[instagram2024[\"tipo_contenuto\"] == \"reel\"].copy()\n",
    "instagram_reel.head()"
   ]
  },
  {
   "cell_type": "markdown",
   "id": "077343cb",
   "metadata": {},
   "source": [
    "Dopo aver filtrato i soli dati sui reel, cerco di vedere se esiste una correlazione tra durata e le altre metriche.\n",
    "\n",
    "Per semplificare l'analisi creo delle categorizzazioni della durata dei reel."
   ]
  },
  {
   "cell_type": "code",
   "execution_count": 36,
   "id": "44d43d6f",
   "metadata": {},
   "outputs": [
    {
     "data": {
      "application/vnd.microsoft.datawrangler.viewer.v0+json": {
       "columns": [
        {
         "name": "index",
         "rawType": "int64",
         "type": "integer"
        },
        {
         "name": "Id_contenuto",
         "rawType": "int64",
         "type": "integer"
        },
        {
         "name": "durata_s",
         "rawType": "int64",
         "type": "integer"
        },
        {
         "name": "data_pubblicazione",
         "rawType": "datetime64[ns]",
         "type": "datetime"
        },
        {
         "name": "tipo_contenuto",
         "rawType": "object",
         "type": "string"
        },
        {
         "name": "like",
         "rawType": "int64",
         "type": "integer"
        },
        {
         "name": "condivisioni",
         "rawType": "int64",
         "type": "integer"
        },
        {
         "name": "commenti",
         "rawType": "int64",
         "type": "integer"
        },
        {
         "name": "salvataggi",
         "rawType": "int64",
         "type": "integer"
        },
        {
         "name": "copertura",
         "rawType": "int64",
         "type": "integer"
        },
        {
         "name": "follower",
         "rawType": "int64",
         "type": "integer"
        },
        {
         "name": "weekday",
         "rawType": "object",
         "type": "string"
        },
        {
         "name": "time",
         "rawType": "int32",
         "type": "integer"
        },
        {
         "name": "fascia_oraria",
         "rawType": "category",
         "type": "unknown"
        },
        {
         "name": "engagement_r",
         "rawType": "float64",
         "type": "float"
        },
        {
         "name": "categoria_durata",
         "rawType": "category",
         "type": "unknown"
        }
       ],
       "ref": "92c92d3a-4300-4472-807f-67a850e4ffd2",
       "rows": [
        [
         "101",
         "18008919614490760",
         "60",
         "2024-01-05 08:01:00",
         "reel",
         "92",
         "1",
         "0",
         "2",
         "4291",
         "3",
         "Fri",
         "8",
         "mattina (7-12)",
         "2.4702866464693543",
         "31-60s"
        ],
        [
         "100",
         "18245506138242189",
         "21",
         "2024-01-08 12:34:00",
         "reel",
         "836",
         "2",
         "6",
         "49",
         "30342",
         "291",
         "Mon",
         "12",
         "pomeriggio (12-17)",
         "3.6484081471228",
         "16-30s"
        ],
        [
         "98",
         "18033686371706762",
         "78",
         "2024-01-10 11:11:00",
         "reel",
         "130",
         "3",
         "2",
         "6",
         "4025",
         "2",
         "Wed",
         "11",
         "mattina (7-12)",
         "4.422360248447204",
         "61-90s"
        ],
        [
         "96",
         "18001731164366762",
         "90",
         "2024-01-12 10:15:00",
         "reel",
         "983",
         "46",
         "5",
         "118",
         "25765",
         "39",
         "Fri",
         "10",
         "mattina (7-12)",
         "6.877547059965069",
         "61-90s"
        ],
        [
         "93",
         "18031792999790534",
         "38",
         "2024-01-15 10:26:00",
         "reel",
         "633",
         "10",
         "1",
         "39",
         "14933",
         "17",
         "Mon",
         "10",
         "mattina (7-12)",
         "5.832719480345543",
         "31-60s"
        ]
       ],
       "shape": {
        "columns": 15,
        "rows": 5
       }
      },
      "text/html": [
       "<div>\n",
       "<style scoped>\n",
       "    .dataframe tbody tr th:only-of-type {\n",
       "        vertical-align: middle;\n",
       "    }\n",
       "\n",
       "    .dataframe tbody tr th {\n",
       "        vertical-align: top;\n",
       "    }\n",
       "\n",
       "    .dataframe thead th {\n",
       "        text-align: right;\n",
       "    }\n",
       "</style>\n",
       "<table border=\"1\" class=\"dataframe\">\n",
       "  <thead>\n",
       "    <tr style=\"text-align: right;\">\n",
       "      <th></th>\n",
       "      <th>Id_contenuto</th>\n",
       "      <th>durata_s</th>\n",
       "      <th>data_pubblicazione</th>\n",
       "      <th>tipo_contenuto</th>\n",
       "      <th>like</th>\n",
       "      <th>condivisioni</th>\n",
       "      <th>commenti</th>\n",
       "      <th>salvataggi</th>\n",
       "      <th>copertura</th>\n",
       "      <th>follower</th>\n",
       "      <th>weekday</th>\n",
       "      <th>time</th>\n",
       "      <th>fascia_oraria</th>\n",
       "      <th>engagement_r</th>\n",
       "      <th>categoria_durata</th>\n",
       "    </tr>\n",
       "  </thead>\n",
       "  <tbody>\n",
       "    <tr>\n",
       "      <th>101</th>\n",
       "      <td>18008919614490760</td>\n",
       "      <td>60</td>\n",
       "      <td>2024-01-05 08:01:00</td>\n",
       "      <td>reel</td>\n",
       "      <td>92</td>\n",
       "      <td>1</td>\n",
       "      <td>0</td>\n",
       "      <td>2</td>\n",
       "      <td>4291</td>\n",
       "      <td>3</td>\n",
       "      <td>Fri</td>\n",
       "      <td>8</td>\n",
       "      <td>mattina (7-12)</td>\n",
       "      <td>2.470287</td>\n",
       "      <td>31-60s</td>\n",
       "    </tr>\n",
       "    <tr>\n",
       "      <th>100</th>\n",
       "      <td>18245506138242189</td>\n",
       "      <td>21</td>\n",
       "      <td>2024-01-08 12:34:00</td>\n",
       "      <td>reel</td>\n",
       "      <td>836</td>\n",
       "      <td>2</td>\n",
       "      <td>6</td>\n",
       "      <td>49</td>\n",
       "      <td>30342</td>\n",
       "      <td>291</td>\n",
       "      <td>Mon</td>\n",
       "      <td>12</td>\n",
       "      <td>pomeriggio (12-17)</td>\n",
       "      <td>3.648408</td>\n",
       "      <td>16-30s</td>\n",
       "    </tr>\n",
       "    <tr>\n",
       "      <th>98</th>\n",
       "      <td>18033686371706762</td>\n",
       "      <td>78</td>\n",
       "      <td>2024-01-10 11:11:00</td>\n",
       "      <td>reel</td>\n",
       "      <td>130</td>\n",
       "      <td>3</td>\n",
       "      <td>2</td>\n",
       "      <td>6</td>\n",
       "      <td>4025</td>\n",
       "      <td>2</td>\n",
       "      <td>Wed</td>\n",
       "      <td>11</td>\n",
       "      <td>mattina (7-12)</td>\n",
       "      <td>4.422360</td>\n",
       "      <td>61-90s</td>\n",
       "    </tr>\n",
       "    <tr>\n",
       "      <th>96</th>\n",
       "      <td>18001731164366762</td>\n",
       "      <td>90</td>\n",
       "      <td>2024-01-12 10:15:00</td>\n",
       "      <td>reel</td>\n",
       "      <td>983</td>\n",
       "      <td>46</td>\n",
       "      <td>5</td>\n",
       "      <td>118</td>\n",
       "      <td>25765</td>\n",
       "      <td>39</td>\n",
       "      <td>Fri</td>\n",
       "      <td>10</td>\n",
       "      <td>mattina (7-12)</td>\n",
       "      <td>6.877547</td>\n",
       "      <td>61-90s</td>\n",
       "    </tr>\n",
       "    <tr>\n",
       "      <th>93</th>\n",
       "      <td>18031792999790534</td>\n",
       "      <td>38</td>\n",
       "      <td>2024-01-15 10:26:00</td>\n",
       "      <td>reel</td>\n",
       "      <td>633</td>\n",
       "      <td>10</td>\n",
       "      <td>1</td>\n",
       "      <td>39</td>\n",
       "      <td>14933</td>\n",
       "      <td>17</td>\n",
       "      <td>Mon</td>\n",
       "      <td>10</td>\n",
       "      <td>mattina (7-12)</td>\n",
       "      <td>5.832719</td>\n",
       "      <td>31-60s</td>\n",
       "    </tr>\n",
       "  </tbody>\n",
       "</table>\n",
       "</div>"
      ],
      "text/plain": [
       "          Id_contenuto  durata_s  data_pubblicazione tipo_contenuto  like  \\\n",
       "101  18008919614490760        60 2024-01-05 08:01:00           reel    92   \n",
       "100  18245506138242189        21 2024-01-08 12:34:00           reel   836   \n",
       "98   18033686371706762        78 2024-01-10 11:11:00           reel   130   \n",
       "96   18001731164366762        90 2024-01-12 10:15:00           reel   983   \n",
       "93   18031792999790534        38 2024-01-15 10:26:00           reel   633   \n",
       "\n",
       "     condivisioni  commenti  salvataggi  copertura  follower weekday  time  \\\n",
       "101             1         0           2       4291         3     Fri     8   \n",
       "100             2         6          49      30342       291     Mon    12   \n",
       "98              3         2           6       4025         2     Wed    11   \n",
       "96             46         5         118      25765        39     Fri    10   \n",
       "93             10         1          39      14933        17     Mon    10   \n",
       "\n",
       "          fascia_oraria  engagement_r categoria_durata  \n",
       "101      mattina (7-12)      2.470287           31-60s  \n",
       "100  pomeriggio (12-17)      3.648408           16-30s  \n",
       "98       mattina (7-12)      4.422360           61-90s  \n",
       "96       mattina (7-12)      6.877547           61-90s  \n",
       "93       mattina (7-12)      5.832719           31-60s  "
      ]
     },
     "execution_count": 36,
     "metadata": {},
     "output_type": "execute_result"
    }
   ],
   "source": [
    "bins = [0, 15, 30, 60, 90, 120, float('inf')]\n",
    "labels = [\"0-15s\", \"16-30s\", \"31-60s\", \"61-90s\", \"91-120s\", \">120s\"]\n",
    "\n",
    "instagram_reel.loc[:, \"categoria_durata\"] = pd.cut(\n",
    "    instagram_reel[\"durata_s\"],\n",
    "    bins=bins,\n",
    "    labels=labels,\n",
    "    right=True\n",
    ")\n",
    "\n",
    "\n",
    "instagram_reel.head()"
   ]
  },
  {
   "cell_type": "markdown",
   "id": "1fcf9fad",
   "metadata": {},
   "source": [
    "**Confronto tra metriche e durata dei reel**"
   ]
  },
  {
   "cell_type": "code",
   "execution_count": 44,
   "id": "6952785a",
   "metadata": {},
   "outputs": [
    {
     "data": {
      "application/vnd.microsoft.datawrangler.viewer.v0+json": {
       "columns": [
        {
         "name": "categoria_durata",
         "rawType": "category",
         "type": "unknown"
        },
        {
         "name": "engagement_r",
         "rawType": "float64",
         "type": "float"
        },
        {
         "name": "like",
         "rawType": "float64",
         "type": "float"
        },
        {
         "name": "condivisioni",
         "rawType": "float64",
         "type": "float"
        },
        {
         "name": "follower",
         "rawType": "float64",
         "type": "float"
        },
        {
         "name": "salvataggi",
         "rawType": "float64",
         "type": "float"
        }
       ],
       "ref": "a47cffff-133c-42e0-8def-fb1c77e86665",
       "rows": [
        [
         "16-30s",
         "3.21",
         "364.0",
         "3.67",
         "99.0",
         "19.0"
        ],
        [
         "31-60s",
         "5.12",
         "564.93",
         "14.1",
         "24.53",
         "36.33"
        ],
        [
         "61-90s",
         "7.56",
         "778.56",
         "30.13",
         "24.41",
         "64.93"
        ],
        [
         "91-120s",
         "5.84",
         "605.88",
         "23.69",
         "24.94",
         "43.31"
        ],
        [
         ">120s",
         "8.84",
         "929.73",
         "33.84",
         "37.22",
         "106.27"
        ]
       ],
       "shape": {
        "columns": 5,
        "rows": 5
       }
      },
      "text/html": [
       "<div>\n",
       "<style scoped>\n",
       "    .dataframe tbody tr th:only-of-type {\n",
       "        vertical-align: middle;\n",
       "    }\n",
       "\n",
       "    .dataframe tbody tr th {\n",
       "        vertical-align: top;\n",
       "    }\n",
       "\n",
       "    .dataframe thead th {\n",
       "        text-align: right;\n",
       "    }\n",
       "</style>\n",
       "<table border=\"1\" class=\"dataframe\">\n",
       "  <thead>\n",
       "    <tr style=\"text-align: right;\">\n",
       "      <th></th>\n",
       "      <th>engagement_r</th>\n",
       "      <th>like</th>\n",
       "      <th>condivisioni</th>\n",
       "      <th>follower</th>\n",
       "      <th>salvataggi</th>\n",
       "    </tr>\n",
       "    <tr>\n",
       "      <th>categoria_durata</th>\n",
       "      <th></th>\n",
       "      <th></th>\n",
       "      <th></th>\n",
       "      <th></th>\n",
       "      <th></th>\n",
       "    </tr>\n",
       "  </thead>\n",
       "  <tbody>\n",
       "    <tr>\n",
       "      <th>16-30s</th>\n",
       "      <td>3.21</td>\n",
       "      <td>364.00</td>\n",
       "      <td>3.67</td>\n",
       "      <td>99.00</td>\n",
       "      <td>19.00</td>\n",
       "    </tr>\n",
       "    <tr>\n",
       "      <th>31-60s</th>\n",
       "      <td>5.12</td>\n",
       "      <td>564.93</td>\n",
       "      <td>14.10</td>\n",
       "      <td>24.53</td>\n",
       "      <td>36.33</td>\n",
       "    </tr>\n",
       "    <tr>\n",
       "      <th>61-90s</th>\n",
       "      <td>7.56</td>\n",
       "      <td>778.56</td>\n",
       "      <td>30.13</td>\n",
       "      <td>24.41</td>\n",
       "      <td>64.93</td>\n",
       "    </tr>\n",
       "    <tr>\n",
       "      <th>91-120s</th>\n",
       "      <td>5.84</td>\n",
       "      <td>605.88</td>\n",
       "      <td>23.69</td>\n",
       "      <td>24.94</td>\n",
       "      <td>43.31</td>\n",
       "    </tr>\n",
       "    <tr>\n",
       "      <th>&gt;120s</th>\n",
       "      <td>8.84</td>\n",
       "      <td>929.73</td>\n",
       "      <td>33.84</td>\n",
       "      <td>37.22</td>\n",
       "      <td>106.27</td>\n",
       "    </tr>\n",
       "  </tbody>\n",
       "</table>\n",
       "</div>"
      ],
      "text/plain": [
       "                  engagement_r    like  condivisioni  follower  salvataggi\n",
       "categoria_durata                                                          \n",
       "16-30s                    3.21  364.00          3.67     99.00       19.00\n",
       "31-60s                    5.12  564.93         14.10     24.53       36.33\n",
       "61-90s                    7.56  778.56         30.13     24.41       64.93\n",
       "91-120s                   5.84  605.88         23.69     24.94       43.31\n",
       ">120s                     8.84  929.73         33.84     37.22      106.27"
      ]
     },
     "execution_count": 44,
     "metadata": {},
     "output_type": "execute_result"
    }
   ],
   "source": [
    "instagram_reel.groupby(\"categoria_durata\", observed=True)[[\"engagement_r\",\"like\",\"condivisioni\",\"follower\",\"salvataggi\"]].mean().round(2)\n"
   ]
  },
  {
   "cell_type": "markdown",
   "id": "ac880518",
   "metadata": {},
   "source": [
    ">_Osservazione_ : dato che si è osservato, attraverso le analisi descrittive che, i contenuti con durata superiore a 120 secondi ottengono performance migliori in tutte le metriche considerate, procedo con un test ANOVA per verificare se queste differenze siano statisticamente significative."
   ]
  },
  {
   "cell_type": "markdown",
   "id": "1c51e8ee",
   "metadata": {},
   "source": [
    "#### **test ANOVA: contenuti superiori a 120 secondi**"
   ]
  },
  {
   "cell_type": "code",
   "execution_count": 52,
   "id": "d89f4520",
   "metadata": {},
   "outputs": [],
   "source": [
    "# Creazione di un array di engagement rate per ogni categoria di durata\n",
    "# ho escluso 0-15 perché non ci sono voci\n",
    "\n",
    "er_16_30s = instagram_reel[instagram_reel['categoria_durata'] == '16-30s']['engagement_r']\n",
    "er_31_60s = instagram_reel[instagram_reel['categoria_durata'] == '31-60s']['engagement_r']\n",
    "er_61_90s = instagram_reel[instagram_reel['categoria_durata'] == '61-90s']['engagement_r']\n",
    "er_91_120s = instagram_reel[instagram_reel['categoria_durata'] == '91-120s']['engagement_r']\n",
    "er_120s_plus = instagram_reel[instagram_reel['categoria_durata'] == '>120s']['engagement_r']"
   ]
  },
  {
   "cell_type": "code",
   "execution_count": 53,
   "id": "d10a4ebd",
   "metadata": {},
   "outputs": [
    {
     "name": "stdout",
     "output_type": "stream",
     "text": [
      "F-statistic: 10.24\n",
      "P-value: 0.000\n"
     ]
    }
   ],
   "source": [
    "f_statistic, p_value = stats.f_oneway(\n",
    "    er_16_30s,\n",
    "    er_31_60s,\n",
    "    er_61_90s,\n",
    "    er_91_120s,\n",
    "    er_120s_plus\n",
    ")\n",
    "\n",
    "print(f\"F-statistic: {f_statistic:.2f}\")\n",
    "print(f\"P-value: {p_value:.3f}\")"
   ]
  },
  {
   "cell_type": "markdown",
   "id": "5be05949",
   "metadata": {},
   "source": [
    "L’ ANOVA mostra che la durata dei reel influenza significativamente l’engagement rate: le differenze tra categorie non sono dovute al caso.\n"
   ]
  },
  {
   "cell_type": "markdown",
   "id": "9930e84f",
   "metadata": {},
   "source": [
    "### 4.6 Analisi temporali"
   ]
  },
  {
   "cell_type": "markdown",
   "id": "4726b1be",
   "metadata": {},
   "source": [
    "**Andamento engagement rate nel tempo**\n"
   ]
  },
  {
   "cell_type": "code",
   "execution_count": 46,
   "id": "cb492ec9",
   "metadata": {},
   "outputs": [
    {
     "data": {
      "image/png": "[encoded data removed]",
      "text/plain": [
       "<Figure size 1200x600 with 1 Axes>"
      ]
     },
     "metadata": {},
     "output_type": "display_data"
    }
   ],
   "source": [
    "# Raggruppa per mese e calcola la media dell'engagement rate\n",
    "monthly_engagement = instagram2024.groupby(instagram2024['data_pubblicazione'].dt.to_period('M'))['engagement_r'].mean()\n",
    "\n",
    "# Creazione il grafico mensile\n",
    "plt.figure(figsize=(12, 6))\n",
    "plt.plot(monthly_engagement.index.astype(str), monthly_engagement.values, \n",
    "         marker='o', linewidth=2, markersize=8)\n",
    "plt.title('Engagement rate medio mensile - 2024', fontsize=16)\n",
    "plt.xlabel('Mese', fontsize=12)\n",
    "plt.ylabel('Engagement rate', fontsize=12)\n",
    "plt.xticks(rotation=45)\n",
    "plt.grid(True, alpha=0.3)\n",
    "plt.tight_layout()\n",
    "plt.show()"
   ]
  },
  {
   "cell_type": "markdown",
   "id": "1dc7bfda",
   "metadata": {},
   "source": [
    ">_Osservazione_ : il tasso di coinvolgimento registra un calo durante il periodo estivo con una netta ripresa a Settembre. Il periodo con il miglior tasso di coinvolgimento si registra a Gennaio e ad Aprile."
   ]
  },
  {
   "cell_type": "markdown",
   "id": "e57676ec",
   "metadata": {},
   "source": [
    "Nella prossima analisi verificherò se esiste una correlazione tra tipo di formato pubblicato e calo di engagement per rispondere alla domanda:\n",
    "- la presenza di maggiori contenuti performanti (reel) o (caroselli) può influire sul tasso di coinvolgimento del pubblico?"
   ]
  },
  {
   "cell_type": "markdown",
   "id": "af178c61",
   "metadata": {},
   "source": [
    "### 4.7 Correlazioni"
   ]
  },
  {
   "cell_type": "markdown",
   "id": "c7747415",
   "metadata": {},
   "source": [
    "**Correlazione variazioni temporali con tipo di contenuto**"
   ]
  },
  {
   "cell_type": "markdown",
   "id": "688d5013",
   "metadata": {},
   "source": [
    "Per verificare se c'è correlazioni tra formato di contenuto e picchi o cali di engagement farò **una crosstabulation normalizzata tra tipo di contenuto e periodi di engagement (definiti tramite quartili) e la visualizzerò con un grafico a barre per identificare quali formati performano meglio nei diversi periodi**."
   ]
  },
  {
   "cell_type": "code",
   "execution_count": null,
   "id": "3c85f543",
   "metadata": {},
   "outputs": [
    {
     "name": "stdout",
     "output_type": "stream",
     "text": [
      "=== IDENTIFICAZIONE PERIODI ===\n",
      "Engagement alto (≥75° percentile): 8.55%\n",
      "Engagement basso (≤25° percentile): 4.35%\n",
      "\n",
      "Distribuzione periodi:\n",
      "periodo_engagement\n",
      "medio    194\n",
      "alto      97\n",
      "basso     97\n",
      "Name: count, dtype: int64\n",
      "\n",
      "=== CORRELAZIONE CON TIPO CONTENUTO ===\n",
      "Percentuale di post per periodo di engagement:\n",
      "periodo_engagement  alto  basso  medio\n",
      "tipo_contenuto                        \n",
      "carosello           15.8   42.1   42.1\n",
      "immagine            20.4   21.6   58.1\n",
      "reel                32.9   22.6   44.5\n"
     ]
    },
    {
     "data": {
      "text/plain": [
       "<Figure size 1200x600 with 0 Axes>"
      ]
     },
     "metadata": {},
     "output_type": "display_data"
    },
    {
     "data": {
      "image/png": "[encoded data removed]",
      "text/plain": [
       "<Figure size 640x480 with 1 Axes>"
      ]
     },
     "metadata": {},
     "output_type": "display_data"
    }
   ],
   "source": [
    "# ===== PREPARAZIONE DATI TEMPORALI =====\n",
    "instagram2024['mese'] = instagram2024['data_pubblicazione'].dt.month\n",
    "instagram2024['giorno_mese'] = instagram2024['data_pubblicazione'].dt.day\n",
    "instagram2024['settimana_anno'] = instagram2024['data_pubblicazione'].dt.isocalendar().week\n",
    "instagram2024['trimestre'] = instagram2024['data_pubblicazione'].dt.quarter\n",
    "\n",
    "# Identifico periodi di alto e basso engagement\n",
    "q75 = instagram2024['engagement_r'].quantile(0.75)\n",
    "q25 = instagram2024['engagement_r'].quantile(0.25)\n",
    "\n",
    "instagram2024['periodo_engagement'] = 'medio'\n",
    "instagram2024.loc[instagram2024['engagement_r'] >= q75, 'periodo_engagement'] = 'alto'\n",
    "instagram2024.loc[instagram2024['engagement_r'] <= q25, 'periodo_engagement'] = 'basso'\n",
    "\n",
    "print(\"=== IDENTIFICAZIONE PERIODI ===\")\n",
    "print(f\"Engagement alto (≥75° percentile): {q75:.2f}%\")\n",
    "print(f\"Engagement basso (≤25° percentile): {q25:.2f}%\")\n",
    "print(f\"\\nDistribuzione periodi:\")\n",
    "print(instagram2024['periodo_engagement'].value_counts())\n",
    "\n",
    "print(\"\\n=== CORRELAZIONE CON TIPO CONTENUTO ===\")\n",
    "contenuto_engagement = pd.crosstab(instagram2024['tipo_contenuto'], \n",
    "                                 instagram2024['periodo_engagement'], \n",
    "                                 normalize='index') * 100\n",
    "\n",
    "print(\"Percentuale di post per periodo di engagement:\")\n",
    "print(contenuto_engagement.round(1))\n",
    "\n",
    "# Grafico tipo contenuto\n",
    "plt.figure(figsize=(12, 6))\n",
    "contenuto_engagement.plot(kind='bar', stacked=False)\n",
    "plt.title('Distribuzione Periodi Engagement per Tipo Contenuto')\n",
    "plt.ylabel('Percentuale (%)')\n",
    "plt.xlabel('Tipo Contenuto')\n",
    "plt.legend(title='Periodo Engagement')\n",
    "plt.xticks(rotation=45)\n",
    "plt.tight_layout()\n",
    "plt.show()"
   ]
  },
  {
   "cell_type": "markdown",
   "id": "e5a78a57",
   "metadata": {},
   "source": [
    ">L’analisi della crosstabulation conferma quanto osservato in precedenza: i reel dominano nei periodi di alto engagement, le immagini in quelli medi e i caroselli in quelli bassi. Questa distribuzione suggerisce che la tipologia di contenuto influisce sulle performance, con i reel che raggiungono engagement più elevati."
   ]
  },
  {
   "cell_type": "markdown",
   "id": "ab077680",
   "metadata": {},
   "source": [
    "**Tendenze temporali generali**"
   ]
  },
  {
   "cell_type": "code",
   "execution_count": 49,
   "id": "7abefef9",
   "metadata": {},
   "outputs": [
    {
     "name": "stdout",
     "output_type": "stream",
     "text": [
      "weekday\n",
      "Thu    7.266756\n",
      "Wed    7.057771\n",
      "Sat    6.845998\n",
      "Fri    6.721837\n",
      "Mon    6.632089\n",
      "Sun    6.577875\n",
      "Tue    4.961866\n",
      "Name: engagement_r, dtype: float64\n"
     ]
    },
    {
     "data": {
      "image/png": "[encoded data removed]",
      "text/plain": [
       "<Figure size 640x480 with 1 Axes>"
      ]
     },
     "metadata": {},
     "output_type": "display_data"
    }
   ],
   "source": [
    "#creazione di una variabile che raggruppa i risultati della media \n",
    "#di engagement per giorno della settimana\n",
    "media_er_weekday = instagram2024.groupby(\"weekday\")[\"engagement_r\"].mean().sort_values(ascending=False)\n",
    "print(media_er_weekday)\n",
    "\n",
    "#creazione grafico\n",
    "media_er_weekday.plot(kind=\"bar\")\n",
    "plt.ylabel(\"Engagement rate medio\")\n",
    "plt.xlabel(\"Giorno della settimana\")\n",
    "plt.show()"
   ]
  },
  {
   "cell_type": "markdown",
   "id": "aec98626",
   "metadata": {},
   "source": [
    "Sembrerebbe che i contenuti pubblicati Giovedì e Mercoledì generino maggiore coinvolgimento."
   ]
  },
  {
   "cell_type": "markdown",
   "id": "a5c4fed1",
   "metadata": {},
   "source": [
    "**Heatmap per giorni e fasce orarie di engagement rate**"
   ]
  },
  {
   "cell_type": "code",
   "execution_count": 50,
   "id": "91259869",
   "metadata": {},
   "outputs": [
    {
     "data": {
      "image/png": "[encoded data removed]",
      "text/plain": [
       "<Figure size 800x600 with 2 Axes>"
      ]
     },
     "metadata": {},
     "output_type": "display_data"
    }
   ],
   "source": [
    "# 1. Riorganizzo i dati usando le nuove categorie con pivot\n",
    "dati_heatmap = instagram2024.pivot_table(\n",
    "    values=\"engagement_r\",\n",
    "    index=\"weekday\",\n",
    "    columns=\"fascia_oraria\",\n",
    "    aggfunc=\"mean\",\n",
    "    observed=True\n",
    ")\n",
    "\n",
    "# 2. Creo la nuova heatmap\n",
    "plt.figure(figsize=(8, 6))\n",
    "sns.heatmap(\n",
    "    dati_heatmap,\n",
    "    cmap=\"YlGnBu\",\n",
    "    annot=True,\n",
    "    fmt=\".2f\",\n",
    "    linewidths=.5,\n",
    "    cbar_kws={'label': 'Engagement rate medio'}\n",
    ")\n",
    "\n",
    "plt.title(\"Heatmap dell'engagement rate per giorno e fascia oraria\")\n",
    "plt.xlabel(\"Fascia oraria\")\n",
    "plt.ylabel(\"Tipo di giorno\")\n",
    "plt.show()"
   ]
  },
  {
   "cell_type": "markdown",
   "id": "c3642510",
   "metadata": {},
   "source": [
    "> _Osservazioni_ :\n",
    "\n",
    "- **Punte più alti nel weekend**: L'engagement rate è significativamente più elevato nel fine settimana, in particolare la domenica (Sun) e il sabato (Sat), soprattutto nelle fasce orarie serali. Il picco massimo si registra la domenica sera (12.55).\n",
    "\n",
    "- **Orario serale dominante**: In generale, la fascia oraria serale (17-22) mostra i valori più alti di engagement rate per quasi tutti i giorni della settimana, confermandosi come il momento migliore per pubblicare.\n",
    "\n",
    "- **Performance bassa martedì**: Il martedì (Tue) è il giorno con l'engagement rate più basso in tutte le fasce orarie.\n",
    "\n",
    "- **Fasce orarie mattutine e pomeridiane**: Le fasce orarie mattutine (7-12) e pomeridiane (12-17) hanno engagement rate più simili tra loro e generalmente inferiori a quelli serali."
   ]
  },
  {
   "cell_type": "markdown",
   "id": "4bbde36b",
   "metadata": {},
   "source": [
    "## 5. Conclusioni\n",
    "\n",
    "### Cosa ho scoperto\n",
    "1. I reel con durata sopra i 120 secondi sono il formato preferito dagli utenti. La durata media dei Reel è di 58 secondi, ma quelli più lunghi ottengono risultati migliori.\n",
    "2. I contenuti pubblicati la sera ottengono i risultati migliori, in particolare nel weekend. I contenuti pubblicati il martedì ricevono un basso tasso di coinvolgimento.\n",
    "3. I caroselli riducono l'engagement. Nei mesi in cui il formato predominante è il carosello, si registra un picco del calo di coinvolgimento.\n",
    "4. I salvataggi sono la metrica chiave per la copertura: la forte correlazione (0.73) con i salvataggi indica che Instagram privilegia i contenuti salvati. Inoltre, i salvataggi sono la metrica di interazione più alta, superando commenti e condivisioni.\n",
    "5. L'engagement è slegato dalla copertura. La correlazione tra copertura ed engagement rate è quasi inesistente (−0.08), smentendo l'idea che una maggiore visibilità porti automaticamente a un più alto tasso di interazione.\n",
    "\n",
    "### Cosa consiglio\n",
    "1. Sperimentare con reel più lunghi e aumentarne la produzione oltre i due minuti, dato che questo formato è quello preferito dagli utenti e sembra essere in linea con un profilo che tratta contenuti educativi.\n",
    "2. Ridurre l'uso dei caroselli. Limita l'uso di questo formato, poiché sembra non essere efficace per il tuo pubblico.\n",
    "3. Pianificare la pubblicazione deicontenuti migliori per le serate del weekend. Questo è il momento in cui ottengono i risultati più alti.\n",
    "4. Creare contenuti che gli utenti trovino utili o educativi e che quindi desiderano salvare. Esempi includono guide, tutorial, liste e \"dritte\".\n",
    "5. Dato che la copertura non garantisce un alto tasso di interazione, punta su contenuti che stimolino commenti e condivisioni, come domande aperte o call-to-action mirate, per migliorare il tasso di engagement medio.\n",
    "\n",
    "\n",
    "### Limiti\n",
    "- È importante notare che l'analisi si basa sui dati del 2024. Dato che gli algoritmi di Instagram e le preferenze del pubblico sono in continua evoluzione, i risultati potrebbero non essere rappresentativi del futuro. Nuovi formati o modifiche all'algoritmo potrebbero cambiare radicalmente il panorama dei contenuti, rendendo necessario un monitoraggio costante e un'analisi periodica per mantenere le strategie aggiornate.\n",
    "\n",
    "### Prossimi passi\n",
    "1. Implementare le raccomandazioni\n",
    "2. Misurare i risultati tra 2 mesi, monitorando in particolare l'andamento dei salvataggi, dell'engagement rate e della crescita dei follower per verificare l'efficacia delle modifiche apportate.\n",
    "\n",
    "\n"
   ]
  }
 ],
 "metadata": {
  "kernelspec": {
   "display_name": "pydata-book",
   "language": "python",
   "name": "python3"
  },
  "language_info": {
   "codemirror_mode": {
    "name": "ipython",
    "version": 3
   },
   "file_extension": ".py",
   "mimetype": "text/x-python",
   "name": "python",
   "nbconvert_exporter": "python",
   "pygments_lexer": "ipython3",
   "version": "3.10.18"
  }
 },
 "nbformat": 4,
 "nbformat_minor": 5
}
